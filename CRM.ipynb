{
  "nbformat": 4,
  "nbformat_minor": 0,
  "metadata": {
    "colab": {
      "name": "CRM.ipynb",
      "provenance": [],
      "collapsed_sections": [],
      "mount_file_id": "1Nz8VFu_F01n-nk0z9pNUkfUZV1RrG86f",
      "authorship_tag": "ABX9TyPYWZcuMMRLAeOPECdZuqde",
      "include_colab_link": true
    },
    "kernelspec": {
      "name": "python3",
      "display_name": "Python 3"
    },
    "language_info": {
      "name": "python"
    }
  },
  "cells": [
    {
      "cell_type": "markdown",
      "metadata": {
        "id": "view-in-github",
        "colab_type": "text"
      },
      "source": [
        "<a href=\"https://colab.research.google.com/github/bhanu0925/NLP/blob/main/CRM.ipynb\" target=\"_parent\"><img src=\"https://colab.research.google.com/assets/colab-badge.svg\" alt=\"Open In Colab\"/></a>"
      ]
    },
    {
      "cell_type": "code",
      "execution_count": 112,
      "metadata": {
        "id": "b45FR0VxLjia"
      },
      "outputs": [],
      "source": [
        "import os\n",
        "ROOT = \"/content/drive/MyDrive/NLP/CRM\"\n",
        "os.chdir(ROOT)"
      ]
    },
    {
      "cell_type": "code",
      "source": [
        "# from google.colab import drive\n",
        "# drive.mount('/content/drive')"
      ],
      "metadata": {
        "id": "6HzHmjC6rC7j"
      },
      "execution_count": null,
      "outputs": []
    },
    {
      "cell_type": "code",
      "source": [
        "!pip install wordsegment"
      ],
      "metadata": {
        "id": "k_vkghEddMb2"
      },
      "execution_count": null,
      "outputs": []
    },
    {
      "cell_type": "code",
      "source": [
        "import pandas as pd\n",
        "import pickle\n",
        "import nltk\n",
        "import re\n",
        "import string\n",
        "from wordsegment import load, segment\n",
        "from nltk.corpus import stopwords\n",
        "from nltk.stem import WordNetLemmatizer\n",
        "from nltk.tokenize import word_tokenize\n",
        "from textblob import TextBlob\n"
      ],
      "metadata": {
        "id": "MVIUBUIpMFZB"
      },
      "execution_count": 117,
      "outputs": []
    },
    {
      "cell_type": "markdown",
      "source": [
        "# Data Cleaning"
      ],
      "metadata": {
        "id": "hTbKDZ3rL-f3"
      }
    },
    {
      "cell_type": "code",
      "source": [
        "leads = pd.read_excel(\"1000_leads.xlsx\")"
      ],
      "metadata": {
        "id": "up2ZpQWuL7qi"
      },
      "execution_count": 5,
      "outputs": []
    },
    {
      "cell_type": "code",
      "source": [
        "leads.head(100)"
      ],
      "metadata": {
        "id": "su86c_ZGMYjk"
      },
      "execution_count": null,
      "outputs": []
    },
    {
      "cell_type": "code",
      "source": [
        "leads['Status information'][750]"
      ],
      "metadata": {
        "colab": {
          "base_uri": "https://localhost:8080/",
          "height": 72
        },
        "id": "Vagcs8KSMax_",
        "outputId": "f214b1c6-de1b-4164-b9f0-65a65f572c4e"
      },
      "execution_count": null,
      "outputs": [
        {
          "output_type": "execute_result",
          "data": {
            "text/plain": [
              "'23/MaY/moHan:attnde demo 23/MaY/moHan:he want in june today check and will make token payment 30/MaY/moHan:he will research and do token payment 7/JunE/moHan:he will check tmng nd respnd in 5dys 13/JunE/moHan:buay with work some othr time 13/JulY/moHan: call me mndy 2|AuG|moHan:i will try'"
            ],
            "application/vnd.google.colaboratory.intrinsic+json": {
              "type": "string"
            }
          },
          "metadata": {},
          "execution_count": 6
        }
      ]
    },
    {
      "cell_type": "markdown",
      "source": [
        "Data normalization\n",
        "\n",
        "1. remove data and name of the user,11/8/prema:, 10/8/17(Surendra):, 9|aUg|moHan:,31/5/17(gowtham)\n",
        "2. spelling corrections\n",
        "3. expand short forms like, n/w,banglr,discus,othr,intrstd,mrg,cal,tmrw, cert, n, reg, 1hr, 23rd , @5pm , ofc, 6:30 AM, amt,hav,wil,b e,'ssbb', 'ssgb', etc\n",
        "4. constructions : i'm, don't,\n",
        "5. RNR = ringing no response,CT = classroom training\n",
        "6. Spelling corrections\n",
        "7. Remove empty rows\n",
        "8. replace numbers with words\n"
      ],
      "metadata": {
        "id": "yyR22vl9M_4L"
      }
    },
    {
      "cell_type": "code",
      "source": [
        "#!pip install clean-text"
      ],
      "metadata": {
        "id": "FLV84PZKMn2l"
      },
      "execution_count": null,
      "outputs": []
    },
    {
      "cell_type": "code",
      "source": [
        "leads.info()"
      ],
      "metadata": {
        "id": "3rKLxSf9tELc"
      },
      "execution_count": null,
      "outputs": []
    },
    {
      "cell_type": "code",
      "source": [
        "leads.dropna(axis=0,inplace=True)"
      ],
      "metadata": {
        "id": "E9DI-PuEtdBY"
      },
      "execution_count": 6,
      "outputs": []
    },
    {
      "cell_type": "code",
      "source": [
        "leads.info()"
      ],
      "metadata": {
        "id": "JBveq8sgtu-v"
      },
      "execution_count": null,
      "outputs": []
    },
    {
      "cell_type": "code",
      "source": [
        "def lower_casing_text(text):\n",
        "    \n",
        "    \"\"\"\n",
        "    The function will convert text into lower case.\n",
        "    \n",
        "    arguments:\n",
        "         input_text: \"text\" of type \"String\".\n",
        "         \n",
        "    return:\n",
        "         value: text in lowercase\n",
        "         \n",
        "    Example:\n",
        "    Input : The World is Full of Surprises!\n",
        "    Output : the world is full of surprises!\n",
        "    \n",
        "    \"\"\"\n",
        "    # Convert text to lower case\n",
        "    # lower() - It converts all upperase letter of given string to lowercase.\n",
        "    text = text.lower()\n",
        "    return text"
      ],
      "metadata": {
        "id": "hw5PV7UYvzR5"
      },
      "execution_count": 7,
      "outputs": []
    },
    {
      "cell_type": "code",
      "source": [
        "def data_cleaning(text):\n",
        "\n",
        "  ## lowercase\n",
        "  text = lower_casing_text(text)\n",
        "  ## remove puctuation\n",
        "  text = remove_puctuation(text)\n",
        "  ## remove digits with trailing and preceeding text - sdf243abvc, 9am\n",
        "  text = remove_digits_with_words(text)\n",
        "  ## Normalize words\n",
        "\n",
        "  ## word segmentations - > shareddetails -> shared details\n",
        "\n",
        "  ## \n",
        "  return text\n"
      ],
      "metadata": {
        "id": "FxuPOmyd0Sz1"
      },
      "execution_count": 8,
      "outputs": []
    },
    {
      "cell_type": "code",
      "source": [
        "def remove_puctuation(text):\n",
        "  \"\"\"\n",
        "    The function will replace punctuation with a space.\n",
        "    \n",
        "    arguments:\n",
        "         input_text: \"text\" of type \"String\".\n",
        "         \n",
        "    return:\n",
        "         value: text with no punctuations\n",
        "         \n",
        "    Example:\n",
        "    Input : The World is Full of Pan%tu#at!io#n@s!\n",
        "    Output : the world is full of Pantuations\n",
        "    \n",
        "    \"\"\"\n",
        "  text = text.replace(':',' ')  \n",
        "  text = re.sub('[%s]' % re.escape(string.punctuation), '', text)\n",
        "  return text"
      ],
      "metadata": {
        "id": "OG1cr2BK0kdT"
      },
      "execution_count": 9,
      "outputs": []
    },
    {
      "cell_type": "code",
      "source": [
        "def remove_digits_with_words(text):\n",
        "  \n",
        "  \"\"\"\n",
        "  The function will remove digits with traiing or preceedign text.\n",
        "\n",
        "  arguments:\n",
        "        input_text: \"text\" of type \"String\".\n",
        "        \n",
        "  return:\n",
        "        value: text with no digits with texts\n",
        "        \n",
        "  Example:\n",
        "  Input : The World is Full of num234num, 9am\n",
        "  Output : the world is full of \n",
        "\n",
        "  \"\"\"\n",
        "\n",
        "  text = re.sub('\\w*\\d\\w*', '', text) #digits with trailing or preceeding text\n",
        "  return text"
      ],
      "metadata": {
        "id": "gMMFuIz09iew"
      },
      "execution_count": 10,
      "outputs": []
    },
    {
      "cell_type": "code",
      "source": [
        "SHORTHAND_MAP = {    \n",
        "\n",
        "\"abt\"           : \"about\",\n",
        "\"addres\"        : \"address\",\n",
        "\"adress\"        : \"address\",\n",
        "\"adrs\"          : \"address\",\n",
        "\"afterwardds\"   : \"afterwords\",\n",
        "\"aftr\"          : \"after\",\n",
        "\"aftrnun\"       : \"afternoon\",\n",
        "\"alrdy\"         : \"already\",\n",
        "\"alredy\"        : \"already\",\n",
        "\"alrady\"        : \"already\",\n",
        "\"altdy\"         : \"alternet day\",\n",
        "\"amt\"           : \"amount\",\n",
        "\"anothr\"        : \"another\",\n",
        "\"anthr\"         : \"another\",\n",
        "\"appt\"          : \"appointment\",\n",
        "\"area\"          : \"are\",\n",
        "\"askng\"         : \"asking\",\n",
        "\"ateend\"        : \"attend\",\n",
        "\"atend\"         : \"attend\",\n",
        "\"atended\"       : \"attended\",\n",
        "\"atnd\"          : \"attend\",\n",
        "\"atnded\"        : \"attended\",\n",
        "\"atteded\"       : \"attended\",\n",
        "\"attedn\"        : \"attend\",\n",
        "\"attednded\"     : \"attended\",\n",
        "\"attendind\"     : \"attending\",\n",
        "\"attende\"       : \"attend\",\n",
        "\"attnd\"         : \"attend\",\n",
        "\"attnde\"        : \"attend\",\n",
        "\"attnded\"       : \"attended\",\n",
        "\"attndng\"       : \"attending\",\n",
        "\"attned\"        : \"attend\",\n",
        "\"attnede\"       : \"attend\",\n",
        "\"attneded\"      : \"attended\",\n",
        "\"attrended\"     : \"attended\",\n",
        "\"atttend\"       : \"attend\",\n",
        "\"aug\"           : \"august\",\n",
        "\"auugust\"       : \"august\",\n",
        "\"ad\"            : \"and\",\n",
        "\"availbe\"       : \"available\",\n",
        "\"avalable\"      : \"available\",\n",
        "\n",
        "\"banglr\"        : \"bangalore\",\n",
        "\"blr\"           : \"bangalore\",\n",
        "'blw'           : \"bangalore\",\n",
        "\"bangaluru\"     : \"bangalore\",\n",
        "\"banglore\"      : \"bangalore\",\n",
        "\"mg\"            : \"mahathma gandhi\",\n",
        "\"hosp\"          : \"hospital\",\n",
        "\"bnglr\"         : \"bangalore\",\n",
        "\"bnlgr\"         :\"bangalore\",\n",
        "\"bacth\"         : \"batch\",\n",
        "\"bsy\"           : \"busy\",\n",
        "\"btwn\"          : \"between\",\n",
        "\"b\"             : \"be\",\n",
        "\n",
        "\"cant\"          : \"can not\",\n",
        "\"cert\"          : \"certificate\",\n",
        "\"cehck\"         : \"check\",\n",
        "\"checkd\"        : \"checked\",\n",
        "\"chck\"          : \"check\",\n",
        "\"chek\"          : \"chek\",\n",
        "\"chekc\"         : \"check\",\n",
        "\"cal\"           : \"call\",\n",
        "\"cald\"          : \"called\",\n",
        "\"cacl\"          : \"call\",\n",
        "\"claaroom\"      : \"classroom\",\n",
        "\"clas\"          : \"class\",\n",
        "\"cls\"           : \"classroom\",\n",
        "\"clsroom\"       : \"classroom\",\n",
        "\"CT\"            : \"classroom training\",\n",
        "\"clsses\"        : \"classes\",\n",
        "\"clsdemo\"       : \"class demo\",\n",
        "\"clsrom\"        : \"classroom\",\n",
        "\"come\"        : \"come\",\n",
        "\"cmng\"        : \"coming\",\n",
        "\"cmpny\"       : \"company\",\n",
        "\"cncting\"     : \"connecting\",\n",
        "\"cnectng\"     : \"connecting\",\n",
        "\"cnnctng\"     : \"connecting\",\n",
        "\"cnnecting\"   : \"connecting\",\n",
        "\"cntcd\"       : \"contacted\",\n",
        "\"cnfrm\"       : \"confirm\",\n",
        "\"cntry\"       : \"contry\",\n",
        "\"curse\"       : \"course\",\n",
        "\"congirm\"     : \"confirm\",\n",
        "\n",
        "\"dat\"         : \"that\",\n",
        "\"dbs\"         : \"database\",\n",
        "\"dec\"         : \"december\",\n",
        "\"deffintly\"   : \"definitely\",\n",
        "\"demp\"        : \"demo\",\n",
        "\"dmo\"         : \"demo\",\n",
        "\"den\"         : \"then\",\n",
        "\"devps\"       : \"devops\",\n",
        "\"dfrnt\"       : \"different\",\n",
        "\"diconecting\" : \"disconnecting\",\n",
        "\"diconnected\" : \"disconnected\",\n",
        "\"didnt\"       : \"did not\",\n",
        "\"dint\"        : \"did not\",\n",
        "\"dis\"         : \"this\",\n",
        "\"dng\"         : \"doing\",\n",
        "\"dnt\"         : \"do not\",\n",
        "\"doctors\"     : \"docker\",\n",
        "\"donno\"       : \"do not know\",\n",
        "\"drope\"       : \"drop\",\n",
        "\"drpd\"        : \"dropped\",\n",
        "\"drvg\"        : \"driving\",\n",
        "\"dsmldl\"      : \"datascience machine learning deep learning\",\n",
        "\"ds\"          : \"datascience\",\n",
        "\"dsnt\"        : \"does not\",\n",
        "\"dys\"         : \"days\",\n",
        "\"dont\"        : \"do not\",\n",
        "\"discus\"      : \"discuss\",\n",
        "\n",
        "\n",
        "\"eachble\"     : \"reachable\",\n",
        "\"eclr\"        : \"clear\",\n",
        "\"emis\"        : \"mothly installments\",\n",
        "\"eng\"         : \"engage\",\n",
        "\"engd\"        : \"engaged\",\n",
        "\"enrld\"       : \"enrolled\",\n",
        "\"enrl\"        : \"enroll\",\n",
        "\"even\"        : \"evening\",\n",
        "\"eveng\"       : \"evening\",\n",
        "\"evng\"        : \"evening\",\n",
        "\"evg\"         : \"evening\",\n",
        "\"exp\"         : \"experience\",\n",
        "\"exler\"       : \"excelr\",\n",
        "\"exlr\"        : \"excelr\",\n",
        "\n",
        "\"fald\"        : \"failed\",\n",
        "\"falg\"        : \"following\",\n",
        "\"finalise\"    : \"finalize\",\n",
        "\"finl\"        : \"final\",\n",
        "\"finlised\"    : \"finalized\",\n",
        "\"finlse\"      : \"finalize\",\n",
        "\"finalised\"   : \"finalized\",\n",
        "\"finlsed\"     : \"finalized\",\n",
        "\"fr\"          : \"for\",\n",
        "\"frnd\"        : \"friend\",\n",
        "\"frnds\"       : \"friends\",\n",
        "\"frshr\"       : \"fresher\",\n",
        "\n",
        "\"gng\"         : \"going\",\n",
        "\"gud\"         : \"good\",\n",
        "\n",
        "\"hav\"         : \"have\",\n",
        "\"havent\"      : \"have not\",\n",
        "\"heath\"       : \"health\",\n",
        "\"hom\"         : \"home\",\n",
        "\"hr\"          : \"hour\",\n",
        "\"hrs\"         : \"hours\",\n",
        "\"hv\"          : \"have\",\n",
        "\"hvng\"        : \"having\",\n",
        "\"hyd\"         : \"hyderabad\",\n",
        "\"hw\"          : \"how\",\n",
        "\n",
        "\n",
        "\"if\"          : \"if\",\n",
        "\"il\"          : \"i will\",\n",
        "\"im\"          : \"i am\",\n",
        "\"iam\"         : \"i am\",\n",
        "\"intro\"       : \"introduction\",\n",
        "\"intrrstd\"    : \"interested\",\n",
        "\"intrsd\"      : \"interested\",\n",
        "\"intrstd\"     : \"interested\",\n",
        "\"intrtstd\"    : \"interested\",\n",
        "\"inttstd\"     : \"interested\",\n",
        "\"itrstd\"      : \"interested\",\n",
        "\"ion\"         : \"ios\",\n",
        "\"inquired\"    : \"enquired\",\n",
        "\n",
        "\"joind\"       : \"joined\",\n",
        "\"joing\"       : \"joining\",\n",
        "\"jul\"         : \"july\",\n",
        "\"jun\"         : \"june\",\n",
        "\n",
        "\n",
        "\"lkng\"        : \"looking\",\n",
        "\"lokng\"       : \"looking\",\n",
        "\"latr\"        : \"later\",\n",
        "\n",
        "\"oopng\"       : \"looping\",\n",
        "\n",
        "\"mai\"         : \"mail\",\n",
        "\"mar\"         : \"march\",\n",
        "\"marow\"       : \"tommorow\",\n",
        "\"marrow\"      : \"tommorow\",\n",
        "\"midum\"       : \"medium\",\n",
        "\"mints\"       : \"minutes\",\n",
        "\"minz\"        : \"minutes\",\n",
        "\"mis\"         : \"miss\",\n",
        "\"misd\"        : \"missed\",\n",
        "\"misg\"        : \"missing\",\n",
        "\"ml\"          : \"machine learning\",\n",
        "\"mndy\"        : \"monday\",\n",
        "\"mndytusdy\"   : \"monday tuesday\",\n",
        "\"mor\"         : \"more\",\n",
        "\"mrg\"         : \"morning\",\n",
        "\"mrng\"        : \"morning\",\n",
        "\"mndy\"        : \"monday\",\n",
        "\"marag\"       : \"marriage\",\n",
        "\n",
        "\n",
        "\"ned\"         : \"need\",\n",
        "\"nov\"         : \"november\",\n",
        "\"nt\"          : \"not\",\n",
        "\"nw\"          : \"network\",\n",
        "\"nyt\"         : \"night\",\n",
        "\"nxt\"         : \"next\",\n",
        "\"n\"           : 'and',\n",
        "\"nd\"          : \"and\",\n",
        "\n",
        "\"oct\"         : \"october\",\n",
        "\"off\"         : \"office\",\n",
        "\"offf\"        : \"office\",\n",
        "\"offrd\"       : \"offered\",\n",
        "\"ofc\"         : \"office\",\n",
        "\"othr\"        : \"other\",\n",
        "\n",
        "\"paln\"        : \"plan\",\n",
        "\"paning\"      : \"planning\",\n",
        "\"persnl\"      : \"personal\",\n",
        "\"persnly\"     : \"personaly\",\n",
        "\"phn\"         : \"phone\",\n",
        "\"planing\"     : \"planning\",\n",
        "\"plcd\"        : \"placed\",\n",
        "\"plng\"        : \"planning\",\n",
        "\"plz\"         : \"please\",\n",
        "\"plaz\"        : \"please\",\n",
        "\"plzt\"        : \"please\",\n",
        "\"pm\"          : \"please message\",\n",
        "\"pone\"        : \"phone\",\n",
        "\"postpnd\"     : \"postponed\",\n",
        "\"prblm\"       : \"problem\",\n",
        "\"prev\"        : \"previous\",\n",
        "\"prjt\"        : \"project\",\n",
        "\"prjts\"       : \"project\",\n",
        "\"provd\"       : \"provide\",\n",
        "\"prvdng\"      : \"providing\",\n",
        "\"psbl\"        : \"possible\",\n",
        "\"pwr\"         : \"power\",\n",
        "\n",
        "\n",
        "\"rt\"          : \"right\",\n",
        "\"rchble\"      : \"reachable\",\n",
        "\"rd\"          : \"road\",\n",
        "\"r\"           : \"are\",\n",
        "\"reable\"      : \"reachable\",\n",
        "\"reacahble\"   : \"reachable\",\n",
        "\"reachble\"    : \"reachable\",\n",
        "\"reachlbe\"    : \"reachable\",\n",
        "\"reahble\"     : \"reachable\",\n",
        "\"rechble\"     : \"reachable\",\n",
        "\"rechd\"       : \"reached\",\n",
        "\"reg\"         : \"register\",\n",
        "\"repnd\"       : \"respond\",\n",
        "\"respd\"       : \"respond\",\n",
        "\"respnd\"      : \"respond\",\n",
        "\"rnrr\"        : \"ringing no response\",\n",
        "\"rnr\"         : \"ringing no response\",\n",
        "\"rom\"         : \"room\",\n",
        "'rprog'       : \"rprogramming\",\n",
        "\n",
        "\"satdy\"       : \"saturday\",\n",
        "\"sat\"         : \"saturday\",\n",
        "\"shred\"       : \"shared\",\n",
        "\"shft\"        : \"shift\",\n",
        "\"sasr\"        : \"sas\", \n",
        "\"schdle\"      : \"schedule\",\n",
        "\"scheduke\"    : \"schedule\",\n",
        "\"sep\"         : \"september\",\n",
        "\"sept\"        : \"september\",\n",
        "\"sesion\"      : \"session\",\n",
        "\"shrd\"        : \"shared\",\n",
        "\"shred\"       : \"shared\",\n",
        "\"shw\"         : \"show\",\n",
        "\"sis\"         : \"sister\",\n",
        "\"sistr\"       : \"sister\",\n",
        "\"soma\"        : \"some\",\n",
        "\"spcl\"        : \"special\",\n",
        "\"sprk\"        : \"spark\",\n",
        "\"statn\"       : \"statistics\",\n",
        "\"stats\"       : \"statistics\",\n",
        "\"sugstd\"      : \"suggested\",\n",
        "\"suprt\"       : \"support\",\n",
        "\"swtchoff\"    : \"switched off\",\n",
        "\"swth\"        : \"switch\",\n",
        "\"swthd\"       : \"switch\",\n",
        "\"swtych\"      : \"switch\",\n",
        "\n",
        "\"twn\"         : \"town\",\n",
        "\"tmrw\"        : 'tomorrow',\n",
        "\"timg\"        : \"timing\",\n",
        "\"tym\"         : \"time\",\n",
        "\"tenserflow\"  : \"tensorflow\",\n",
        "\"tf\"          : \"tensorflow\",\n",
        "\"tim\"         : \"time\",\n",
        "\"tmng\"        : \"timing\",\n",
        "\"tmrws\"       : \"tomorrow\",\n",
        "\"tody\"        : \"today\",\n",
        "\"trang\"       : \"training\",\n",
        "\"trning\"      : \"training\",\n",
        "\"tues\"        : \"tuesday\",\n",
        "\n",
        "\"wkend\"       : \"weekend\",\n",
        "\"wk\"          : \"week\",\n",
        "\"wednsdy\"     : 'wednesday',\n",
        "\"weeknd\"      : \"weekend\",\n",
        "\"wil\"         : \"will\",\n",
        "\"wanna\"       : \"want to\",\n",
        "\"wan\"         : \"want to\",\n",
        "\"wana\"        : \"want to\",\n",
        "\"want\"        : \"want to\",\n",
        "\"wantd\"       : \"wanted\",\n",
        "\"webianr\"     : \"webinar\",\n",
        "\"wed\"         : \"wednesday\",\n",
        "\"wen\"         : \"wednesday\",\n",
        "\"wends\"       : \"wednesday\",\n",
        "\"weekendeveng\": \"weekend evening\",\n",
        "\"wek\"         : \"week\",\n",
        "\"wk\"          : \"week\",\n",
        "\"wekends\"     : \"weekends\",\n",
        "\"wekknd\"      : \"weekend\",\n",
        "\"weknd\"       : \"weekend\",\n",
        "\"whn\"         : \"when\",\n",
        "\"wid\"         : \"with\",\n",
        "\"wii\"         : \"will\",\n",
        "\"wkend\"       : \"weekend\",\n",
        "\"wks\"         : \"week\",\n",
        "\"wll\"         : \"will\",\n",
        "\"wrg\"         : \"wrong\",\n",
        "\"wrk\"         : \"work\",\n",
        "\"wrng\"        : \"wrong\",\n",
        "\n",
        "\"u\"           : \"you\",\n",
        "\"ur\"          : \"you are\",\n",
        "\n",
        "\"xlr\"         : \"Excelr\",\n",
        "\"xcler\"       : \"Excelr\",\n",
        "\n",
        "\"yo\"          : \"you\",\n",
        "\"yr\"          : \"your\",\n",
        "\"ystday\"      : \"yesterday\",     \n",
        "\n",
        "}\n",
        "\n",
        "tech = ['ios','iot','itil','java','mba',\"mongo\",\"ms\",'msc','oracle','phd','pmp','qa','qc',\"rprograming\",'python','tableau','sas',\"spark\",'sql','tensorflow','excelr']\n"
      ],
      "metadata": {
        "id": "kR5BvhzKAVSF"
      },
      "execution_count": 115,
      "outputs": []
    },
    {
      "cell_type": "code",
      "source": [
        ""
      ],
      "metadata": {
        "id": "BNsAiugpdjOk"
      },
      "execution_count": null,
      "outputs": []
    },
    {
      "cell_type": "code",
      "source": [
        "gfg = TextBlob('sesion')\n",
        "gfg.correct()"
      ],
      "metadata": {
        "colab": {
          "base_uri": "https://localhost:8080/"
        },
        "outputId": "696df00d-5820-44bf-ea53-1f772f1e7135",
        "id": "IlLID4U_5D4p"
      },
      "execution_count": 37,
      "outputs": [
        {
          "output_type": "execute_result",
          "data": {
            "text/plain": [
              "TextBlob(\"lesion\")"
            ]
          },
          "metadata": {},
          "execution_count": 37
        }
      ]
    },
    {
      "cell_type": "code",
      "source": [
        "df = pd.DataFrame(leads['cleaned_text'])\n",
        "\n",
        "unique = set(df['cleaned_text'].str.split(' ').sum())\n",
        "\n",
        "print(list(sorted(unique)))"
      ],
      "metadata": {
        "colab": {
          "base_uri": "https://localhost:8080/"
        },
        "outputId": "ff826730-2c40-46c9-a846-035aca47a4a5",
        "id": "cXOwMeS44ODV"
      },
      "execution_count": null,
      "outputs": [
        {
          "output_type": "stream",
          "name": "stdout",
          "text": [
            "['', 'a', 'abdul', 'able', 'about', 'abroad', 'abt', 'accepting', 'accordingly', 'actually', 'ad', 'addres', 'address', 'admin', 'admitted', 'adress', 'adrs', 'advanced', 'after', 'afternoon', 'afterwardds', 'afterwards', 'aftr', 'aftrnun', 'again', 'agencies', 'agenda', 'agendas', 'agust', 'aim', 'aksed', 'ald', 'all', 'alomost', 'alrady', 'alrdy', 'already', 'alredy', 'also', 'altdy', 'am', 'amar', 'amarrnr', 'ambatch', 'amerpet', 'ammerpet', 'amt', 'an', 'analysis', 'analyst', 'analytics', 'and', 'anisble', 'another', 'anothr', 'anthr', 'any', 'apache', 'approach', 'approval', 'appt', 'aproving', 'are', 'area', 'arount', 'arrange', 'arrived', 'as', 'asked', 'asking', 'askng', 'asq', 'assistance', 'at', 'ateend', 'atend', 'atended', 'atleast', 'atnd', 'atnded', 'atteded', 'attedn', 'attednded', 'attend', 'attende', 'attended', 'attendind', 'attnd', 'attnde', 'attnded', 'attndng', 'attned', 'attnede', 'attneded', 'attrended', 'atttend', 'audible', 'audit', 'aug', 'august', 'augustseptember', 'australia', 'autamtn', 'auugust', 'avail', 'available', 'availbe', 'avalable', 'aws', 'ax', 'b', 'back', 'bacth', 'bad', 'bakrid', 'banaswadi', 'bangalore', 'bangaluru', 'banglore', 'banglr', 'bank', 'basavaraj', 'base', 'based', 'basic', 'batch', 'batches', 'batcj', 'be', 'been', 'before', 'best', 'better', 'big', 'biotech', 'bit', 'bits', 'blockchain', 'blw', 'bnglr', 'bnlgr', 'booked', 'breaking', 'bring', 'bro', 'broadband', 'brotherwill', 'brthr', 'bsy', 'bt', 'btm', 'btwn', 'buay', 'business', 'bussy', 'busy', 'but', 'bw', 'by', 'bysy', 'cab', 'cacl', 'cal', 'cald', 'call', 'callcal', 'calling', 'calls', 'cam', 'came', 'can', 'candidates', 'cant', 'capm', 'care', 'cat', 'cc', 'cehck', 'cert', 'certificate', 'certification', 'certified', 'change', 'changed', 'changing', 'chat', 'chck', 'check', 'checkd', 'checked', 'checking', 'chek', 'chekc', 'chennai', 'choose', 'city', 'claaroom', 'clarificaton', 'clarify', 'clas', 'clasroom', 'class', 'classes', 'classrom', 'classroom', 'classroomdetails', 'classroomwill', 'classsroom', 'clear', 'client', 'cloud', 'cls', 'clsdemo', 'clsrom', 'clsroom', 'clsses', 'cme', 'cmng', 'cmpny', 'cncting', 'cnectng', 'cnfrm', 'cnnctng', 'cnnecting', 'cntcd', 'cntry', 'code', 'college', 'com', 'come', 'comfirm', 'comfort', 'comfortable', 'company', 'comparing', 'completed', 'computing', 'conatct', 'concerned', 'concession', 'condct', 'conduct', 'confirm', 'confirmation', 'confirmed', 'confrim', 'confrm', 'congirm', 'conncted', 'connctng', 'connect', 'connectd', 'connected', 'connectied', 'connecting', 'connection', 'consultancy', 'contact', 'content', 'continue', 'continuous', 'converted', 'corprt', 'correct', 'councelling', 'couple', 'course', 'coverage', 'covered', 'crporate', 'ct', 'currently', 'curse', 'customer', 'cut', 'cutd', 'cutg', 'd', 'dat', 'data', 'database', 'daughter', 'day', 'days', 'dbs', 'deatails', 'deatils', 'dec', 'december', 'decide', 'decided', 'decision', 'deep', 'deffintly', 'delayed', 'delete', 'deliverables', 'demo', 'demoattended', 'demornr', 'demos', 'demp', 'den', 'desktop', 'detaills', 'details', 'detailsmorning', 'detailstomorrow', 'detailswkend', 'detaisl', 'detials', 'detils', 'devops', 'devps', 'dfrnt', 'diconecting', 'diconnected', 'didnt', 'differs', 'dilemma', 'din', 'dint', 'directly', 'dis', 'disconected', 'disconnected', 'disconnecteddetails', 'disconnecteddetais', 'disconnectednumber', 'disconnectedrnr', 'disconnecting', 'disconneted', 'discount', 'discueesd', 'discus', 'discuss', 'discussed', 'discussion', 'disturbance', 'diverrt', 'dmo', 'dng', 'dnt', 'do', 'docker', 'doctors', 'doing', 'done', 'donno', 'dont', 'doubts', 'driving', 'drop', 'drope', 'droped', 'dropped', 'drpd', 'drvg', 'drvng', 'ds', 'dsf', 'dsmldl', 'dsnt', 'due', 'during', 'dynamics', 'dys', 'e', 'eachble', 'early', 'eclr', 'electronic', 'email', 'emailid', 'embeded', 'emergency', 'emis', 'employee', 'end', 'ending', 'endng', 'endwant', 'eng', 'engaged', 'engd', 'enquired', 'enquiring', 'enrld', 'enrol', 'enroled', 'enroll', 'enrolled', 'entrepreneur', 'equired', 'error', 'escalation', 'europe', 'even', 'eveng', 'evening', 'eveningmail', 'every', 'evg', 'evng', 'examples', 'excellr', 'excelr', 'exclr', 'exist', 'exit', 'exler', 'exlr', 'exp', 'experience', 'external', 'fake', 'fald', 'falg', 'family', 'far', 'fare', 'fee', 'feedback', 'few', 'field', 'final', 'finalise', 'finalised', 'finalize', 'finance', 'find', 'fine', 'finl', 'finlised', 'finlse', 'finlsed', 'first', 'flexible', 'follow', 'followp', 'for', 'forwarded', 'forwarding', 'foundation', 'fr', 'frankly', 'free', 'fresher', 'friday', 'fridy', 'friend', 'friends', 'frm', 'frnd', 'frnds', 'from', 'frshr', 'fukat', 'fusion', 'ganesh', 'gave', 'get', 'give', 'given', 'global', 'gng', 'go', 'going', 'gone', 'good', 'got', 'gowtham', 'graduation', 'gud', 'had', 'hadoop', 'hands', 'handson', 'handycap', 'has', 'hav', 'have', 'havent', 'havg', 'having', 'havng', 'he', 'health', 'heath', 'her', 'hi', 'high', 'him', 'hindi', 'his', 'hold', 'holiday', 'hom', 'home', 'hometown', 'hometwn', 'hope', 'hosp', 'hour', 'how', 'hr', 'hrs', 'hv', 'hvng', 'hw', 'hyd', 'hyderabad', 'hyderabaddetails', 'i', 'iam', 'id', 'iddetails', 'ie', 'if', 'iff', 'il', 'ill', 'im', 'in', 'info', 'infomred', 'inform', 'informed', 'infromed', 'inhouse', 'initially', 'initialy', 'inquire', 'inquired', 'inquiring', 'inshort', 'insist', 'inst', 'institue', 'institute', 'instiute', 'interenet', 'interesed', 'interessted', 'interestd', 'interested', 'intermdt', 'intermediate', 'internet', 'internship', 'interviews', 'intimate', 'intimated', 'intro', 'intrrstd', 'intrsd', 'intrstd', 'intrtstd', 'inttstd', 'ion', 'ios', 'iot', 'is', 'issue', 'issues', 'isue', 'it', 'itil', 'itilf', 'itrstd', 'its', 'jagan', 'january', 'java', 'job', 'join', 'joind', 'joine', 'joined', 'joing', 'joining', 'joinsaid', 'jst', 'jul', 'july', 'julyaugust', 'jun', 'june', 'jus', 'just', 'k', 'kanth', 'kanthhe', 'keeping', 'kindly', 'kiran', 'know', 'knw', 'kolkata', 'language', 'laptop', 'last', 'lat', 'late', 'later', 'laterneed', 'latr', 'law', 'layout', 'layoutkudlu', 'lead', 'learn', 'learng', 'learning', 'les', 'let', 'liftd', 'liftg', 'like', 'link', 'linksms', 'lit', 'little', 'live', 'lkng', 'lokng', 'lon', 'long', 'looking', 'lookng', 'loopng', 'm', 'maail', 'machine', 'maheswarao', 'mai', 'mail', 'mails', 'mailwill', 'main', 'make', 'management', 'manager', 'many', 'mar', 'marag', 'mark', 'marketing', 'marow', 'marriage', 'marrow', 'mat', 'may', 'maynot', 'mba', 'me', 'meanwhile', 'medication', 'medium', 'meet', 'meeting', 'meetingwill', 'mem', 'message', 'met', 'mg', 'mid', 'midum', 'mind', 'mints', 'minz', 'mis', 'misd', 'misg', 'missing', 'ml', 'mndy', 'mndytusdy', 'mnth', 'mnths', 'mobile', 'module', 'moment', 'monday', 'mondays', 'money', 'mongo', 'monring', 'month', 'months', 'mor', 'more', 'mornign', 'morning', 'mostly', 'mother', 'move', 'moving', 'mrg', 'mrng', 'ms', 'msc', 'msg', 'much', 'mumbai', 'my', 'n', 'nd', 'ne', 'near', 'ned', 'nedded', 'neded', 'need', 'needed', 'negotiation', 'net', 'network', 'new', 'next', 'nlw', 'nneded', 'no', 'noida', 'noise', 'noof', 'not', 'notr', 'nov', 'november', 'novemberdetails', 'novmber', 'now', 'nowshared', 'nr', 'nt', 'num', 'numbe', 'number', 'numbercheck', 'numberdetails', 'numbermail', 'numbr', 'numbrs', 'nw', 'nxt', 'nyt', 'oct', 'october', 'of', 'ofc', 'off', 'offce', 'offdetails', 'offemail', 'offer', 'offering', 'offf', 'offfice', 'office', 'offrd', 'oin', 'ok', 'old', 'om', 'on', 'once', 'one', 'online', 'onlinet', 'onlne', 'only', 'onsat', 'onsite', 'opinion', 'opportunities', 'options', 'or', 'oracle', 'organisation', 'organization', 'other', 'otherwise', 'othr', 'our', 'out', 'outside', 'overview', 'own', 'paln', 'paning', 'parasankan', 'parents', 'part', 'participants', 'pay', 'payment', 'pc', 'people', 'per', 'perd', 'period', 'persnl', 'persnly', 'person', 'personal', 'phd', 'phn', 'pilaniwant', 'pilgrimage', 'place', 'placed', 'placement', 'placements', 'plan', 'planing', 'planned', 'planning', 'plans', 'plaz', 'plcd', 'please', 'pleased', 'pln', 'plng', 'plz', 'plzt', 'pm', 'pmdetails', 'pmi', 'pmneed', 'pmp', 'pmt', 'point', 'pond', 'pone', 'portal', 'possible', 'posssible', 'post', 'postpnd', 'postpond', 'postpone', 'postponed', 'powercut', 'practical', 'prblm', 'prefer', 'prema', 'preparing', 'present', 'presently', 'prev', 'previous', 'previously', 'price', 'prior', 'prjt', 'prjts', 'problem', 'process', 'profesor', 'profile', 'program', 'programming', 'project', 'projects', 'propably', 'proper', 'provd', 'provide', 'provideddetails', 'providing', 'prsntly', 'prvdng', 'psbl', 'pt', 'pune', 'pursue', 'pursuing', 'pwr', 'python', 'qa', 'qc', 'qlickview', 'quality', 'queries', 'quotation', 'r', 'rchble', 'rd', 're', 'reable', 'reacahble', 'reach', 'reachable', 'reachablemail', 'reachablesms', 'reachble', 'reachlbe', 'reahble', 'real', 'received', 'recently', 'recession', 'rechble', 'rechd', 'recorded', 'recrded', 'reg', 'regarding', 'register', 'registered', 'registration', 'regular', 'relatives', 'remaining', 'remind', 'reocrd', 'reply', 'repnd', 'repsnd', 'req', 'require', 'required', 'requirements', 'research', 'resend', 'residence', 'respd', 'respnd', 'respndg', 'respnding', 'respond', 'respondg', 'response', 'returned', 'revert', 'reviews', 'right', 'rnr', 'rnrasked', 'rnrdetails', 'rnrhe', 'rnrmail', 'rnrmsg', 'rnrnot', 'rnrr', 'rnrrecorded', 'rnrsms', 'road', 'rom', 'room', 'rotational', 'rply', 'rprog', 'rpython', 'rt', 'rtableau', 'sahred', 'sai', 'said', 'sample', 'sas', 'sasr', 'sat', 'satdy', 'satisfied', 'saturday', 'scenarios', 'schdle', 'schdule', 'scheduke', 'schedule', 'science', 'searching', 'sector', 'seeking', 'seen', 'seminar', 'send', 'sending', 'sent', 'sentdetails', 'sentwill', 'sep', 'sept', 'september', 'server', 'service', 'sesion', 'session', 'sessions', 'sessionsi', 'sessison', 'sesssion', 'set', 'shal', 'shall', 'shankar', 'share', 'shared', 'sharedand', 'sharedneed', 'sharedwill', 'shares', 'sharng', 'she', 'shft', 'shift', 'shifts', 'short', 'shortt', 'shrd', 'shred', 'shw', 'side', 'signal', 'simplilearn', 'sir', 'sis', 'sistr', 'slot', 'sms', 'so', 'soma', 'some', 'sometime', 'sometimedetails', 'sometym', 'somewhere', 'soon', 'sorry', 'sourse', 'spcl', 'speaak', 'speak', 'speaking', 'spoke', 'spoken', 'spolen', 'sprk', 'sql', 'sri', 'sriram', 'ssbb', 'ssgb', 'start', 'station', 'statistical', 'statistics', 'statn', 'stats', 'still', 'stop', 'strts', 'student', 'students', 'sugstd', 'summit', 'sunday', 'support', 'suprt', 'sure', 'surendra', 'switch', 'switched', 'switchedd', 'swtch', 'swtchd', 'swtchoff', 'swth', 'swthd', 'swtych', 't', 'tableau', 'take', 'takes', 'taking', 'talk', 'team', 'tell', 'tend', 'tenserflow', 'tensorflow', 'test', 'text', 'texted', 'tf', 'than', 'thank', 'that', 'the', 'their', 'them', 'then', 'there', 'they', 'think', 'thinking', 'this', 'through', 'thursday', 'thursdy', 'tied', 'till', 'tim', 'time', 'times', 'timg', 'timing', 'timings', 'timng', 'tmng', 'tmrw', 'tmrws', 'to', 'toay', 'today', 'todays', 'tody', 'todya', 'token', 'tomorow', 'tomorrow', 'tomorrowdetails', 'tonight', 'too', 'tool', 'tools', 'topics', 'town', 'traffic', 'trail', 'trainee', 'trainer', 'trainers', 'training', 'trang', 'traning', 'travel', 'traveling', 'travell', 'travelling', 'travellng', 'trial', 'trid', 'trning', 'try', 'tryng', 'tues', 'tuesday', 'tuesdy', 'two', 'tym', 'u', 'uma', 'unable', 'under', 'unregistered', 'up', 'update', 'upto', 'ur', 'us', 'v', 'vacation', 'vaccation', 'venue', 'very', 'vgp', 'via', 'video', 'videos', 'vidoes', 'view', 'vijarngr', 'visits', 'voice', 'waiting', 'wan', 'wana', 'wanna', 'wanr', 'want', 'wantd', 'wanted', 'warding', 'was', 'watn', 'watsapp', 'way', 'we', 'webianr', 'webinar', 'webinari', 'website', 'wed', 'wednesday', 'wednsdy', 'weeek', 'week', 'weekdays', 'weekedays', 'weekend', 'weekendeveng', 'weekendif', 'weekends', 'weeknd', 'weeks', 'wek', 'wekd', 'wekends', 'wekknd', 'weknd', 'well', 'wen', 'wends', 'went', 'whatsap', 'whatsapp', 'when', 'where', 'whether', 'whn', 'who', 'wid', 'wife', 'wii', 'wiil', 'wil', 'will', 'willing', 'willl', 'with', 'within', 'wk', 'wkend', 'wks', 'wll', 'work', 'working', 'works', 'worng', 'would', 'wrg', 'wrk', 'wrng', 'wron', 'wrong', 'wwant', 'xcler', 'xlr', 'yah', 'yesterday', 'yesterdy', 'yet', 'yo', 'you', 'your', 'yr', 'ystday']\n"
          ]
        }
      ]
    },
    {
      "cell_type": "code",
      "source": [
        "gfg = TextBlob('ystday')\n",
        "gfg.correct()"
      ],
      "metadata": {
        "colab": {
          "base_uri": "https://localhost:8080/"
        },
        "id": "nCx-xBCDV4TO",
        "outputId": "15829ea5-ab73-4bb1-e2ad-474951c2f5e3"
      },
      "execution_count": 111,
      "outputs": [
        {
          "output_type": "execute_result",
          "data": {
            "text/plain": [
              "TextBlob(\"stay\")"
            ]
          },
          "metadata": {},
          "execution_count": 111
        }
      ]
    },
    {
      "cell_type": "code",
      "source": [
        "segment(\"willl\")"
      ],
      "metadata": {
        "colab": {
          "base_uri": "https://localhost:8080/"
        },
        "id": "_SIxckWD8w93",
        "outputId": "937a14c8-3813-4f25-d7ed-48c60d232ff6"
      },
      "execution_count": 106,
      "outputs": [
        {
          "output_type": "execute_result",
          "data": {
            "text/plain": [
              "['will', 'l']"
            ]
          },
          "metadata": {},
          "execution_count": 106
        }
      ]
    },
    {
      "cell_type": "code",
      "source": [
        "!pip install textblob"
      ],
      "metadata": {
        "colab": {
          "base_uri": "https://localhost:8080/"
        },
        "id": "ZZauE00SAVOe",
        "outputId": "e233f7e9-94db-4c9a-b688-b294b2fa7589"
      },
      "execution_count": 11,
      "outputs": [
        {
          "output_type": "stream",
          "name": "stdout",
          "text": [
            "Looking in indexes: https://pypi.org/simple, https://us-python.pkg.dev/colab-wheels/public/simple/\n",
            "Requirement already satisfied: textblob in /usr/local/lib/python3.7/dist-packages (0.15.3)\n",
            "Requirement already satisfied: nltk>=3.1 in /usr/local/lib/python3.7/dist-packages (from textblob) (3.2.5)\n",
            "Requirement already satisfied: six in /usr/local/lib/python3.7/dist-packages (from nltk>=3.1->textblob) (1.15.0)\n"
          ]
        }
      ]
    },
    {
      "cell_type": "code",
      "source": [
        "!pip install pyspellchecker"
      ],
      "metadata": {
        "colab": {
          "base_uri": "https://localhost:8080/"
        },
        "id": "MkYOuElMelw1",
        "outputId": "8c62f029-85bb-41e2-ccd2-180cf777faf6"
      },
      "execution_count": 12,
      "outputs": [
        {
          "output_type": "stream",
          "name": "stdout",
          "text": [
            "Looking in indexes: https://pypi.org/simple, https://us-python.pkg.dev/colab-wheels/public/simple/\n",
            "Collecting pyspellchecker\n",
            "  Downloading pyspellchecker-0.6.3-py3-none-any.whl (2.7 MB)\n",
            "\u001b[K     |████████████████████████████████| 2.7 MB 8.2 MB/s \n",
            "\u001b[?25hInstalling collected packages: pyspellchecker\n",
            "Successfully installed pyspellchecker-0.6.3\n"
          ]
        }
      ]
    },
    {
      "cell_type": "code",
      "source": [
        "!pip install wordsegment"
      ],
      "metadata": {
        "colab": {
          "base_uri": "https://localhost:8080/"
        },
        "id": "dHpnQK4-TVvq",
        "outputId": "ab874a67-c43f-4bc5-c01c-c66c5059e3de"
      },
      "execution_count": 13,
      "outputs": [
        {
          "output_type": "stream",
          "name": "stdout",
          "text": [
            "Looking in indexes: https://pypi.org/simple, https://us-python.pkg.dev/colab-wheels/public/simple/\n",
            "Collecting wordsegment\n",
            "  Downloading wordsegment-1.3.1-py2.py3-none-any.whl (4.8 MB)\n",
            "\u001b[K     |████████████████████████████████| 4.8 MB 7.6 MB/s \n",
            "\u001b[?25hInstalling collected packages: wordsegment\n",
            "Successfully installed wordsegment-1.3.1\n"
          ]
        }
      ]
    },
    {
      "cell_type": "code",
      "source": [
        "from wordsegment import load, segment"
      ],
      "metadata": {
        "id": "5ZSPO4CpAVAe"
      },
      "execution_count": 14,
      "outputs": []
    },
    {
      "cell_type": "code",
      "source": [
        "load()\n",
        "segment(\"detailsmorning\")"
      ],
      "metadata": {
        "id": "ZySSGUDkTeee"
      },
      "execution_count": 15,
      "outputs": []
    },
    {
      "cell_type": "code",
      "source": [
        ""
      ],
      "metadata": {
        "colab": {
          "base_uri": "https://localhost:8080/"
        },
        "id": "oEs0tRQJTecx",
        "outputId": "3c24bcb0-5771-47ed-c1bd-67a006e9bfc6"
      },
      "execution_count": 16,
      "outputs": [
        {
          "output_type": "execute_result",
          "data": {
            "text/plain": [
              "['details', 'morning']"
            ]
          },
          "metadata": {},
          "execution_count": 16
        }
      ]
    },
    {
      "cell_type": "code",
      "source": [
        "word = ['ateend', 'atend', 'atended', 'atleast', 'atnd', 'atnded', 'atteded', 'attedn', 'attednded', 'attend', 'attende', 'attended', 'attendind', 'attnd', 'attnde', 'attnded', 'attndng', 'attned', 'attnede', 'attneded', 'attrended', 'atttend']"
      ],
      "metadata": {
        "id": "GCOPd7hDTeRR"
      },
      "execution_count": 93,
      "outputs": []
    },
    {
      "cell_type": "code",
      "source": [
        "from textblob import TextBlob"
      ],
      "metadata": {
        "id": "JVit138yTeNk"
      },
      "execution_count": 17,
      "outputs": []
    },
    {
      "cell_type": "code",
      "source": [
        ""
      ],
      "metadata": {
        "colab": {
          "base_uri": "https://localhost:8080/"
        },
        "id": "K9BLg91lTeLl",
        "outputId": "5cc329da-53d9-48a4-b5f0-827e7f1532d9"
      },
      "execution_count": 24,
      "outputs": [
        {
          "output_type": "execute_result",
          "data": {
            "text/plain": [
              "TextBlob(\"confirm\")"
            ]
          },
          "metadata": {},
          "execution_count": 24
        }
      ]
    },
    {
      "cell_type": "code",
      "source": [
        "leads['cleaned_text'][10]"
      ],
      "metadata": {
        "colab": {
          "base_uri": "https://localhost:8080/",
          "height": 54
        },
        "id": "gP0vAhrpTeIR",
        "outputId": "0383a05b-037d-486f-f6ed-ebf16d201f14"
      },
      "execution_count": 95,
      "outputs": [
        {
          "output_type": "execute_result",
          "data": {
            "text/plain": [
              "'  rnr   share me tableau recorded session check n revert   not reachable   rnr   have rotational shifts will check details n confirm   rnr   i will confirm by tmrw   rnr   share me details of webinar on '"
            ],
            "application/vnd.google.colaboratory.intrinsic+json": {
              "type": "string"
            }
          },
          "metadata": {},
          "execution_count": 95
        }
      ]
    },
    {
      "cell_type": "code",
      "source": [
        "text = '14/8/prema:ff'\n",
        "text.replace(':',\" \")"
      ],
      "metadata": {
        "colab": {
          "base_uri": "https://localhost:8080/",
          "height": 35
        },
        "id": "_zodYynP8SI8",
        "outputId": "fe52c435-bfe4-4d67-e5d1-7f5ea1c9e582"
      },
      "execution_count": null,
      "outputs": [
        {
          "output_type": "execute_result",
          "data": {
            "text/plain": [
              "'14/8/prema ff'"
            ],
            "application/vnd.google.colaboratory.intrinsic+json": {
              "type": "string"
            }
          },
          "metadata": {},
          "execution_count": 26
        }
      ]
    },
    {
      "cell_type": "code",
      "source": [
        ""
      ],
      "metadata": {
        "colab": {
          "base_uri": "https://localhost:8080/",
          "height": 35
        },
        "id": "y2vqYxfQ8t98",
        "outputId": "67784752-c8da-4ae9-fd72-a97d1b64a622"
      },
      "execution_count": null,
      "outputs": [
        {
          "output_type": "execute_result",
          "data": {
            "text/plain": [
              "''"
            ],
            "application/vnd.google.colaboratory.intrinsic+json": {
              "type": "string"
            }
          },
          "metadata": {},
          "execution_count": 32
        }
      ]
    },
    {
      "cell_type": "code",
      "source": [
        ""
      ],
      "metadata": {
        "id": "sCANQdGY8t6B"
      },
      "execution_count": null,
      "outputs": []
    },
    {
      "cell_type": "code",
      "source": [
        ""
      ],
      "metadata": {
        "id": "pWAaytCY8tz_"
      },
      "execution_count": null,
      "outputs": []
    },
    {
      "cell_type": "code",
      "source": [
        "leads['cleaned_text'] = leads['Status information'].apply(lambda x: data_cleaning(x))"
      ],
      "metadata": {
        "id": "SvNQM0hPwm98"
      },
      "execution_count": null,
      "outputs": []
    },
    {
      "cell_type": "code",
      "source": [
        "leads.head(5)"
      ],
      "metadata": {
        "colab": {
          "base_uri": "https://localhost:8080/",
          "height": 206
        },
        "id": "zlBoA6q7vzO-",
        "outputId": "25938a22-3db7-456c-bdee-0dcd19c4b03c"
      },
      "execution_count": null,
      "outputs": [
        {
          "output_type": "execute_result",
          "data": {
            "text/plain": [
              "       Lead Name   Location        Status   \\\n",
              "0           Raja  hyderabad  Not Converted   \n",
              "1  Anirudh Reddy       pune  Not Converted   \n",
              "2   Sapna Dewani  bangalore     Converted    \n",
              "3         suresh     mumbai  Not Converted   \n",
              "4  Akshay Shinde  hyderabad  Not Converted   \n",
              "\n",
              "                                  Status information  \\\n",
              "0  14/8/prema: share me details, available in evn...   \n",
              "1  14/8/prema: cal me tmrw, shared details to ema...   \n",
              "2                                   16|AuG|moHan:rnr   \n",
              "3  14/8/17(Surendra):i want only Server 16|AuG|mo...   \n",
              "4  14/8/prema:rnr 16/8/prema: gave info, he said ...   \n",
              "\n",
              "                                        cleaned_text  \n",
              "0    share me details available in evng   postpon...  \n",
              "1    cal me tmrw shared details to email   share ...  \n",
              "2                                                rnr  \n",
              "3       i want only server  cal busy  reg for server  \n",
              "4   rnr   gave info he said he will revert in    ...  "
            ],
            "text/html": [
              "\n",
              "  <div id=\"df-e2c2088d-812d-4f08-94bf-50ff433552e3\">\n",
              "    <div class=\"colab-df-container\">\n",
              "      <div>\n",
              "<style scoped>\n",
              "    .dataframe tbody tr th:only-of-type {\n",
              "        vertical-align: middle;\n",
              "    }\n",
              "\n",
              "    .dataframe tbody tr th {\n",
              "        vertical-align: top;\n",
              "    }\n",
              "\n",
              "    .dataframe thead th {\n",
              "        text-align: right;\n",
              "    }\n",
              "</style>\n",
              "<table border=\"1\" class=\"dataframe\">\n",
              "  <thead>\n",
              "    <tr style=\"text-align: right;\">\n",
              "      <th></th>\n",
              "      <th>Lead Name</th>\n",
              "      <th>Location</th>\n",
              "      <th>Status</th>\n",
              "      <th>Status information</th>\n",
              "      <th>cleaned_text</th>\n",
              "    </tr>\n",
              "  </thead>\n",
              "  <tbody>\n",
              "    <tr>\n",
              "      <th>0</th>\n",
              "      <td>Raja</td>\n",
              "      <td>hyderabad</td>\n",
              "      <td>Not Converted</td>\n",
              "      <td>14/8/prema: share me details, available in evn...</td>\n",
              "      <td>share me details available in evng   postpon...</td>\n",
              "    </tr>\n",
              "    <tr>\n",
              "      <th>1</th>\n",
              "      <td>Anirudh Reddy</td>\n",
              "      <td>pune</td>\n",
              "      <td>Not Converted</td>\n",
              "      <td>14/8/prema: cal me tmrw, shared details to ema...</td>\n",
              "      <td>cal me tmrw shared details to email   share ...</td>\n",
              "    </tr>\n",
              "    <tr>\n",
              "      <th>2</th>\n",
              "      <td>Sapna Dewani</td>\n",
              "      <td>bangalore</td>\n",
              "      <td>Converted</td>\n",
              "      <td>16|AuG|moHan:rnr</td>\n",
              "      <td>rnr</td>\n",
              "    </tr>\n",
              "    <tr>\n",
              "      <th>3</th>\n",
              "      <td>suresh</td>\n",
              "      <td>mumbai</td>\n",
              "      <td>Not Converted</td>\n",
              "      <td>14/8/17(Surendra):i want only Server 16|AuG|mo...</td>\n",
              "      <td>i want only server  cal busy  reg for server</td>\n",
              "    </tr>\n",
              "    <tr>\n",
              "      <th>4</th>\n",
              "      <td>Akshay Shinde</td>\n",
              "      <td>hyderabad</td>\n",
              "      <td>Not Converted</td>\n",
              "      <td>14/8/prema:rnr 16/8/prema: gave info, he said ...</td>\n",
              "      <td>rnr   gave info he said he will revert in    ...</td>\n",
              "    </tr>\n",
              "  </tbody>\n",
              "</table>\n",
              "</div>\n",
              "      <button class=\"colab-df-convert\" onclick=\"convertToInteractive('df-e2c2088d-812d-4f08-94bf-50ff433552e3')\"\n",
              "              title=\"Convert this dataframe to an interactive table.\"\n",
              "              style=\"display:none;\">\n",
              "        \n",
              "  <svg xmlns=\"http://www.w3.org/2000/svg\" height=\"24px\"viewBox=\"0 0 24 24\"\n",
              "       width=\"24px\">\n",
              "    <path d=\"M0 0h24v24H0V0z\" fill=\"none\"/>\n",
              "    <path d=\"M18.56 5.44l.94 2.06.94-2.06 2.06-.94-2.06-.94-.94-2.06-.94 2.06-2.06.94zm-11 1L8.5 8.5l.94-2.06 2.06-.94-2.06-.94L8.5 2.5l-.94 2.06-2.06.94zm10 10l.94 2.06.94-2.06 2.06-.94-2.06-.94-.94-2.06-.94 2.06-2.06.94z\"/><path d=\"M17.41 7.96l-1.37-1.37c-.4-.4-.92-.59-1.43-.59-.52 0-1.04.2-1.43.59L10.3 9.45l-7.72 7.72c-.78.78-.78 2.05 0 2.83L4 21.41c.39.39.9.59 1.41.59.51 0 1.02-.2 1.41-.59l7.78-7.78 2.81-2.81c.8-.78.8-2.07 0-2.86zM5.41 20L4 18.59l7.72-7.72 1.47 1.35L5.41 20z\"/>\n",
              "  </svg>\n",
              "      </button>\n",
              "      \n",
              "  <style>\n",
              "    .colab-df-container {\n",
              "      display:flex;\n",
              "      flex-wrap:wrap;\n",
              "      gap: 12px;\n",
              "    }\n",
              "\n",
              "    .colab-df-convert {\n",
              "      background-color: #E8F0FE;\n",
              "      border: none;\n",
              "      border-radius: 50%;\n",
              "      cursor: pointer;\n",
              "      display: none;\n",
              "      fill: #1967D2;\n",
              "      height: 32px;\n",
              "      padding: 0 0 0 0;\n",
              "      width: 32px;\n",
              "    }\n",
              "\n",
              "    .colab-df-convert:hover {\n",
              "      background-color: #E2EBFA;\n",
              "      box-shadow: 0px 1px 2px rgba(60, 64, 67, 0.3), 0px 1px 3px 1px rgba(60, 64, 67, 0.15);\n",
              "      fill: #174EA6;\n",
              "    }\n",
              "\n",
              "    [theme=dark] .colab-df-convert {\n",
              "      background-color: #3B4455;\n",
              "      fill: #D2E3FC;\n",
              "    }\n",
              "\n",
              "    [theme=dark] .colab-df-convert:hover {\n",
              "      background-color: #434B5C;\n",
              "      box-shadow: 0px 1px 3px 1px rgba(0, 0, 0, 0.15);\n",
              "      filter: drop-shadow(0px 1px 2px rgba(0, 0, 0, 0.3));\n",
              "      fill: #FFFFFF;\n",
              "    }\n",
              "  </style>\n",
              "\n",
              "      <script>\n",
              "        const buttonEl =\n",
              "          document.querySelector('#df-e2c2088d-812d-4f08-94bf-50ff433552e3 button.colab-df-convert');\n",
              "        buttonEl.style.display =\n",
              "          google.colab.kernel.accessAllowed ? 'block' : 'none';\n",
              "\n",
              "        async function convertToInteractive(key) {\n",
              "          const element = document.querySelector('#df-e2c2088d-812d-4f08-94bf-50ff433552e3');\n",
              "          const dataTable =\n",
              "            await google.colab.kernel.invokeFunction('convertToInteractive',\n",
              "                                                     [key], {});\n",
              "          if (!dataTable) return;\n",
              "\n",
              "          const docLinkHtml = 'Like what you see? Visit the ' +\n",
              "            '<a target=\"_blank\" href=https://colab.research.google.com/notebooks/data_table.ipynb>data table notebook</a>'\n",
              "            + ' to learn more about interactive tables.';\n",
              "          element.innerHTML = '';\n",
              "          dataTable['output_type'] = 'display_data';\n",
              "          await google.colab.output.renderOutput(dataTable, element);\n",
              "          const docLink = document.createElement('div');\n",
              "          docLink.innerHTML = docLinkHtml;\n",
              "          element.appendChild(docLink);\n",
              "        }\n",
              "      </script>\n",
              "    </div>\n",
              "  </div>\n",
              "  "
            ]
          },
          "metadata": {},
          "execution_count": 54
        }
      ]
    },
    {
      "cell_type": "code",
      "source": [
        "leads['Status information'][180]"
      ],
      "metadata": {
        "id": "S4Xx2GiLvzL_",
        "colab": {
          "base_uri": "https://localhost:8080/",
          "height": 54
        },
        "outputId": "63a63f13-bcaa-426d-bb0f-86320b3aae4d"
      },
      "execution_count": null,
      "outputs": [
        {
          "output_type": "execute_result",
          "data": {
            "text/plain": [
              "\"26/7/prema: rnr 26/7/prema: shared details to email 27/7/prema: i'm looking for other options too, i will let u know 1/8/prema: droped the plans as of now\""
            ],
            "application/vnd.google.colaboratory.intrinsic+json": {
              "type": "string"
            }
          },
          "metadata": {},
          "execution_count": 15
        }
      ]
    },
    {
      "cell_type": "code",
      "source": [
        ""
      ],
      "metadata": {
        "id": "9KknbGfbvzJG"
      },
      "execution_count": null,
      "outputs": []
    },
    {
      "cell_type": "code",
      "source": [
        ""
      ],
      "metadata": {
        "id": "AYleEZBNvzA-"
      },
      "execution_count": null,
      "outputs": []
    },
    {
      "cell_type": "code",
      "source": [
        ""
      ],
      "metadata": {
        "id": "JgGDSUzwujhU"
      },
      "execution_count": null,
      "outputs": []
    }
  ]
}