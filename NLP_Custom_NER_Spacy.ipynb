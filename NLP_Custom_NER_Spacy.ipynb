{
  "nbformat": 4,
  "nbformat_minor": 0,
  "metadata": {
    "colab": {
      "name": "NLP_Custom_NER_Spacy.ipynb",
      "provenance": [],
      "authorship_tag": "ABX9TyNR4lpBatqQyrt9Qhd62sj+",
      "include_colab_link": true
    },
    "kernelspec": {
      "name": "python3",
      "display_name": "Python 3"
    },
    "language_info": {
      "name": "python"
    }
  },
  "cells": [
    {
      "cell_type": "markdown",
      "metadata": {
        "id": "view-in-github",
        "colab_type": "text"
      },
      "source": [
        "<a href=\"https://colab.research.google.com/github/bhanu0925/NLP/blob/main/NLP_Custom_NER_Spacy.ipynb\" target=\"_parent\"><img src=\"https://colab.research.google.com/assets/colab-badge.svg\" alt=\"Open In Colab\"/></a>"
      ]
    },
    {
      "cell_type": "markdown",
      "source": [
        "#NLP  - NER using Spacy"
      ],
      "metadata": {
        "id": "yuEYWu5jEXWB"
      }
    },
    {
      "cell_type": "code",
      "source": [
        ""
      ],
      "metadata": {
        "id": "a7a_KIcAE9e1"
      },
      "execution_count": 10,
      "outputs": []
    },
    {
      "cell_type": "code",
      "execution_count": 10,
      "metadata": {
        "id": "w7flIYbzESHl"
      },
      "outputs": [],
      "source": [
        "import pandas as pd\n",
        "#import String\n",
        "import re\n",
        "import io\n",
        "import numpy as np\n",
        "from unicodedata import normalize\n",
        "import keras,tensorflow\n",
        "from keras.models import Model\n",
        "from keras.layers import Input, LSTM, Dense\n",
        "import spacy\n"
      ]
    },
    {
      "cell_type": "code",
      "source": [
        "nlp = spacy.load('en_core_web_sm')\n",
        "sent = \"Apple is looking at buying U.K. startup for $1 billion\"\n",
        "doc = nlp(sent)"
      ],
      "metadata": {
        "id": "Ua9yziisE4i5"
      },
      "execution_count": 12,
      "outputs": []
    },
    {
      "cell_type": "code",
      "source": [
        "doc.ents"
      ],
      "metadata": {
        "colab": {
          "base_uri": "https://localhost:8080/"
        },
        "id": "dE3fIC-BXLXa",
        "outputId": "136dd928-de9f-44e6-a82c-4dc5e25c73af"
      },
      "execution_count": 23,
      "outputs": [
        {
          "output_type": "execute_result",
          "data": {
            "text/plain": [
              "(Apple, U.K., $1 billion)"
            ]
          },
          "metadata": {},
          "execution_count": 23
        }
      ]
    },
    {
      "cell_type": "code",
      "source": [
        "for ent in doc.ents:\n",
        "  print(ent.text,ent.start_char,ent.end_char,ent.label_)\n"
      ],
      "metadata": {
        "colab": {
          "base_uri": "https://localhost:8080/"
        },
        "id": "rEoFlincE1MY",
        "outputId": "eb782a0f-229c-414b-ab8a-d8273a7b6c79"
      },
      "execution_count": 17,
      "outputs": [
        {
          "output_type": "stream",
          "name": "stdout",
          "text": [
            "Apple 0 5 ORG\n",
            "U.K. 27 31 GPE\n",
            "$1 billion 44 54 MONEY\n"
          ]
        }
      ]
    },
    {
      "cell_type": "code",
      "source": [
        "nlp.pipe_names"
      ],
      "metadata": {
        "colab": {
          "base_uri": "https://localhost:8080/"
        },
        "id": "fuNdR5RvE1KA",
        "outputId": "c957a5cb-88d1-43b7-ff64-6f8f18880fec"
      },
      "execution_count": 22,
      "outputs": [
        {
          "output_type": "execute_result",
          "data": {
            "text/plain": [
              "['tagger', 'parser', 'ner']"
            ]
          },
          "metadata": {},
          "execution_count": 22
        }
      ]
    },
    {
      "cell_type": "code",
      "source": [
        "article_text=\"\"\"India that previously comprised only a handful of players in the e-commerce space, is now home to many biggies and giants battling out with each other to reach the top. This is thanks to the overwhelming internet and smartphone penetration coupled with the ever-increasing digital adoption across the country. These new-age innovations not only gave emerging startups a unique platform to deliver seamless shopping experiences but also provided brick and mortar stores with a level-playing field to begin their online journeys without leaving their offline legacies.\n",
        "In the wake of so many players coming together on one platform, the Indian e-commerce market is envisioned to reach USD 84 billion in 2021 from USD 24 billion in 2017. Further, with the rate at which internet penetration is increasing, we can expect more and more international retailers coming to India in addition to a large pool of new startups. This, in turn, will provide a major Philip to the organized retail market and boost its share from 12% in 2017 to 22-25% by 2021. \n",
        "Here’s a view to the e-commerce giants that are dominating India’s online shopping space:\n",
        "Amazon – One of the uncontested global leaders, Amazon started its journey as a simple online bookstore that gradually expanded its reach to provide a large suite of diversified products including media, furniture, food, and electronics, among others. And now with the launch of Amazon Prime and Amazon Music Limited, it has taken customer experience to a godly level, which will remain undefeatable for a very long time. \n",
        "Flipkart – Founded in 2007, Flipkart is recognized as the national leader in the Indian e-commerce market. Just like Amazon, it started operating by selling books and then entered other categories such as electronics, fashion, and lifestyle, mobile phones, etc. And now that it has been acquired by Walmart, one of the largest leading platforms of e-commerce in the US, it has also raised its bar of customer offerings in all aspects and giving huge competition to Amazon. \n",
        "Snapdeal – Started as a daily deals platform in 2010, Snapdeal became a full-fledged online marketplace in 2011 comprising more than 3 lac sellers across India. The platform offers over 30 million products across 800+ diverse categories from over 125,000 regional, national, and international brands and retailers. The Indian e-commerce firm follows a robust strategy to stay at the forefront of innovation and deliver seamless customer offerings to its wide customer base. It has shown great potential for recovery in recent years despite losing Freecharge and Unicommerce. \n",
        "ShopClues – Another renowned name in the Indian e-commerce industry, ShopClues was founded in July 2011. It’s a Gurugram based company having a current valuation of INR 1.1 billion and is backed by prominent names including Nexus Venture Partners, Tiger Global, and Helion Ventures as its major investors. Presently, the platform comprises more than 5 lac sellers selling products in nine different categories such as computers, cameras, mobiles, etc. \n",
        "Paytm Mall – To compete with the existing e-commerce giants, Paytm, an online payment system has also launched its online marketplace – Paytm Mall, which offers a wide array of products ranging from men and women fashion to groceries and cosmetics, electronics and home products, and many more. The unique thing about this platform is that it serves as a medium for third parties to sell their products directly through the widely-known app – Paytm. \n",
        "Reliance Retail – Given Reliance Jio’s disruptive venture in the Indian telecom space along with a solid market presence of Reliance, it is no wonder that Reliance will soon be foraying into retail space. As of now, it has plans to build an e-commerce space that will be established on online-to-offline market program and aim to bring local merchants on board to help them boost their sales and compete with the existing industry leaders. \n",
        "Big Basket – India’s biggest online supermarket, Big Basket provides a wide variety of imported and gourmet products through two types of delivery services – express delivery and slotted delivery. It also offers pre-cut fruits along with a long list of beverages including fresh juices, cold drinks, hot teas, etc. Moreover, it not only provides farm-fresh products but also ensures that the farmer gets better prices. \n",
        "Grofers – One of the leading e-commerce players in the grocery segment, Grofers started its operations in 2013 and has reached overwhelming heights in the last 5 years. Its wide range of products includes atta, milk, oil, daily need products, vegetables, dairy products, juices, beverages, among others. With its growing reach across India, it has become one of the favorite supermarkets for Indian consumers who want to shop grocery items from the comforts of their homes. \n",
        "Digital Mall of Asia – Going live in 2020, Digital Mall of Asia is a very unique concept coined by the founders of Yokeasia Malls. It is designed to provide an immersive digital space equipped with multiple visual and sensory elements to sellers and shoppers. It will also give retailers exclusive rights to sell a particular product category or brand in their respective cities. What makes it unique is its zero-commission model enabling retailers to pay only a fixed amount of monthly rental instead of paying commissions. With its one-of-a-kind features, DMA is expected to bring\n",
        "never-seen transformation to the current e-commerce ecosystem while addressing all the existing e-commerce worries such as counterfeiting. \"\"\"\n"
      ],
      "metadata": {
        "id": "dup__FRTE1Ea"
      },
      "execution_count": 16,
      "outputs": []
    },
    {
      "cell_type": "code",
      "source": [
        "doc = nlp(article_text)\n",
        "for ent in doc.ents:\n",
        "  print(ent.text,ent.start_char,ent.end_char,ent.label_)"
      ],
      "metadata": {
        "colab": {
          "base_uri": "https://localhost:8080/"
        },
        "id": "AQ4rqJ2KE0-e",
        "outputId": "ce4b7ac8-2601-4282-9991-5e5bccc81b2a"
      },
      "execution_count": 24,
      "outputs": [
        {
          "output_type": "stream",
          "name": "stdout",
          "text": [
            "India 0 5 GPE\n",
            "one 617 620 CARDINAL\n",
            "Indian 635 641 NORP\n",
            "USD 84 billion 683 697 MONEY\n",
            "2021 701 705 DATE\n",
            "USD 24 billion 711 725 MONEY\n",
            "2017 729 733 DATE\n",
            "India 865 870 GPE\n",
            "Philip 952 958 PERSON\n",
            "12% 1015 1018 PERCENT\n",
            "2017 1022 1026 DATE\n",
            "22-25% 1030 1036 PERCENT\n",
            "2021 1040 1044 DATE\n",
            "India 1106 1111 GPE\n",
            "Amazon 1137 1143 ORG\n",
            "One 1146 1149 CARDINAL\n",
            "Amazon 1185 1191 ORG\n",
            "Amazon 1416 1422 ORG\n",
            "Amazon Music Limited 1433 1453 ORG\n",
            "Flipkart 1560 1568 PERSON\n",
            "2007 1582 1586 DATE\n",
            "Flipkart 1588 1596 PERSON\n",
            "Indian 1641 1647 NORP\n",
            "Amazon 1677 1683 ORG\n",
            "Walmart 1859 1866 LOC\n",
            "one 1868 1871 CARDINAL\n",
            "US 1926 1928 GPE\n",
            "Amazon 2025 2031 ORG\n",
            "daily 2058 2063 DATE\n",
            "2010 2082 2086 DATE\n",
            "2011 2141 2145 DATE\n",
            "more than 3 2157 2168 CARDINAL\n",
            "India 2188 2193 GPE\n",
            "over 30 million 2215 2230 CARDINAL\n",
            "over 125,000 2276 2288 CARDINAL\n",
            "Indian 2353 2359 NORP\n",
            "recent years 2553 2565 DATE\n",
            "Freecharge 2581 2591 PERSON\n",
            "Unicommerce 2596 2607 GPE\n",
            "ShopClues 2610 2619 PERSON\n",
            "Indian 2651 2657 NORP\n",
            "ShopClues 2679 2688 ORG\n",
            "July 2011 2704 2713 DATE\n",
            "Gurugram 2722 2730 ORG\n",
            "INR 2775 2778 ORG\n",
            "1.1 billion 2779 2790 CARDINAL\n",
            "Nexus Venture Partners 2834 2856 ORG\n",
            "Helion Ventures 2876 2891 ORG\n",
            "more than 5 2950 2961 CARDINAL\n",
            "nine 2994 2998 CARDINAL\n",
            "Paytm Mall 3063 3073 PERSON\n",
            "Paytm 3124 3129 ORG\n",
            "Paytm Mall 3199 3209 FAC\n",
            "third 3429 3434 ORDINAL\n",
            "Paytm 3506 3511 GPE\n",
            "Indian 3579 3585 NORP\n",
            "Reliance 3638 3646 ORG\n",
            "Reliance 3669 3677 ORG\n",
            "India 3968 3973 GPE\n",
            "Big Basket 4004 4014 ORG\n",
            "two 4080 4083 CARDINAL\n",
            "One 4385 4388 CARDINAL\n",
            "2013 4481 4485 DATE\n",
            "the last 5 years 4526 4542 DATE\n",
            "daily 4597 4602 DATE\n",
            "India 4709 4714 GPE\n",
            "Indian 4767 4773 NORP\n",
            "Digital Mall 4850 4862 FAC\n",
            "Asia 4866 4870 LOC\n",
            "2020 4887 4891 DATE\n",
            "Digital Mall 4893 4905 ORG\n",
            "Asia 4909 4913 LOC\n",
            "Yokeasia Malls 4965 4979 GPE\n",
            "zero 5258 5262 CARDINAL\n",
            "monthly 5329 5336 DATE\n",
            "one 5384 5387 CARDINAL\n"
          ]
        }
      ]
    },
    {
      "cell_type": "code",
      "source": [
        "spacy.explain('LOC')"
      ],
      "metadata": {
        "colab": {
          "base_uri": "https://localhost:8080/",
          "height": 35
        },
        "id": "lbseFa4VE02J",
        "outputId": "d5923d72-0b1d-4b13-f7a3-5507371fa931"
      },
      "execution_count": 30,
      "outputs": [
        {
          "output_type": "execute_result",
          "data": {
            "text/plain": [
              "'Non-GPE locations, mountain ranges, bodies of water'"
            ],
            "application/vnd.google.colaboratory.intrinsic+json": {
              "type": "string"
            }
          },
          "metadata": {},
          "execution_count": 30
        }
      ]
    },
    {
      "cell_type": "code",
      "source": [
        "spacy.explain('GPE')"
      ],
      "metadata": {
        "colab": {
          "base_uri": "https://localhost:8080/",
          "height": 35
        },
        "id": "_zSPGPmXX3Le",
        "outputId": "a9f525e3-26b1-4cf2-e0a7-eaadd83f2311"
      },
      "execution_count": 31,
      "outputs": [
        {
          "output_type": "execute_result",
          "data": {
            "text/plain": [
              "'Countries, cities, states'"
            ],
            "application/vnd.google.colaboratory.intrinsic+json": {
              "type": "string"
            }
          },
          "metadata": {},
          "execution_count": 31
        }
      ]
    },
    {
      "cell_type": "markdown",
      "source": [
        "WE see flipkart is recognized PERSON\n",
        "\n",
        "Gurugram = org\n",
        "freecharge = person\n",
        "\n",
        "we have to custom train the model for entities\n"
      ],
      "metadata": {
        "id": "XEU2RrvLEWDt"
      }
    },
    {
      "cell_type": "code",
      "source": [
        "## consider on ner pipelien in nlp object\n",
        "\n",
        "nlp = spacy.load('en_core_web_sm')\n",
        "# getting only pipleline componet - ner\n",
        "ner = nlp.get_pipe('ner')"
      ],
      "metadata": {
        "id": "HeiZSE81ZATt"
      },
      "execution_count": 32,
      "outputs": []
    },
    {
      "cell_type": "code",
      "source": [
        "ner"
      ],
      "metadata": {
        "colab": {
          "base_uri": "https://localhost:8080/"
        },
        "id": "vEZ_EOBcZXE8",
        "outputId": "5c0fe7fe-1e9f-43e2-a27a-0b2aff0a77c5"
      },
      "execution_count": 33,
      "outputs": [
        {
          "output_type": "execute_result",
          "data": {
            "text/plain": [
              "<spacy.pipeline.pipes.EntityRecognizer at 0x7f6922179e50>"
            ]
          },
          "metadata": {},
          "execution_count": 33
        }
      ]
    },
    {
      "cell_type": "code",
      "source": [
        "TRAIN_DATA = [\n",
        "              ('Walmart is a leading e-commerce company',{'entities':[(0,7,'ORG')]}),\n",
        "              (\"I reached Chennai yesterday.\",{'entities':[(19,28,'GPE')]}),\n",
        "              (\"I recently ordered a book from Amazon\", {\"entities\": [(24,32, \"ORG\")]}),\n",
        "              (\"I was driving a BMW\", {\"entities\": [(16,19, \"PRODUCT\")]}),\n",
        "              (\"I ordered this from ShopClues\", {\"entities\": [(20,29, \"ORG\")]}),\n",
        "              (\"Fridge can be ordered in Amazon \", {\"entities\": [(0,6, \"PRODUCT\")]}),\n",
        "              (\"I bought a new Washer\", {\"entities\": [(16,22, \"PRODUCT\")]}),\n",
        "              (\"I bought a old table\", {\"entities\": [(16,21, \"PRODUCT\")]}),\n",
        "              (\"I bought a fancy dress\", {\"entities\": [(18,23, \"PRODUCT\")]}),\n",
        "              (\"I rented a camera\", {\"entities\": [(12,18, \"PRODUCT\")]}),\n",
        "              (\"I rented a tent for our trip\", {\"entities\": [(12,16, \"PRODUCT\")]}),\n",
        "              (\"I rented a screwdriver from our neighbour\", {\"entities\": [(12,22, \"PRODUCT\")]}),\n",
        "              (\"I repaired my computer\", {\"entities\": [(15,23, \"PRODUCT\")]}),\n",
        "              (\"I got my clock fixed\", {\"entities\": [(16,21, \"PRODUCT\")]}),\n",
        "              (\"I got my truck fixed\", {\"entities\": [(16,21, \"PRODUCT\")]}),\n",
        "              (\"Flipkart started it's journey from zero\", {\"entities\": [(0,8, \"ORG\")]}),\n",
        "              (\"I recently ordered from Max\", {\"entities\": [(24,27, \"ORG\")]}),\n",
        "              (\"Flipkart is recognized as leader in market\",{\"entities\": [(0,8, \"ORG\")]}),\n",
        "              (\"I recently ordered from Swiggy\", {\"entities\": [(24,29, \"ORG\")]})\n",
        "            ]"
      ],
      "metadata": {
        "id": "CkXXcVflZXhU"
      },
      "execution_count": 37,
      "outputs": []
    },
    {
      "cell_type": "code",
      "source": [
        "for a,b in TRAIN_DATA:\n",
        "  print(b)"
      ],
      "metadata": {
        "colab": {
          "base_uri": "https://localhost:8080/"
        },
        "id": "0phoRf2JbdD7",
        "outputId": "d44339e8-99fb-4d27-d51e-d3a0a11cf875"
      },
      "execution_count": 40,
      "outputs": [
        {
          "output_type": "stream",
          "name": "stdout",
          "text": [
            "{'entities': [(0, 7, 'ORG')]}\n",
            "{'entities': [(19, 28, 'GPE')]}\n",
            "{'entities': [(24, 32, 'ORG')]}\n",
            "{'entities': [(16, 19, 'PRODUCT')]}\n",
            "{'entities': [(20, 29, 'ORG')]}\n",
            "{'entities': [(0, 6, 'PRODUCT')]}\n",
            "{'entities': [(16, 22, 'PRODUCT')]}\n",
            "{'entities': [(16, 21, 'PRODUCT')]}\n",
            "{'entities': [(18, 23, 'PRODUCT')]}\n",
            "{'entities': [(12, 18, 'PRODUCT')]}\n",
            "{'entities': [(12, 16, 'PRODUCT')]}\n",
            "{'entities': [(12, 22, 'PRODUCT')]}\n",
            "{'entities': [(15, 23, 'PRODUCT')]}\n",
            "{'entities': [(16, 21, 'PRODUCT')]}\n",
            "{'entities': [(16, 21, 'PRODUCT')]}\n",
            "{'entities': [(0, 8, 'ORG')]}\n",
            "{'entities': [(24, 27, 'ORG')]}\n",
            "{'entities': [(0, 8, 'ORG')]}\n",
            "{'entities': [(24, 29, 'ORG')]}\n"
          ]
        }
      ]
    },
    {
      "cell_type": "code",
      "source": [
        "### adding new lables to ner\n",
        "for _,annotations in TRAIN_DATA:\n",
        "  for ent in annotations.get(\"entities\"):\n",
        "    ner.add_label(ent[2])"
      ],
      "metadata": {
        "id": "UlULpUTcbyZb"
      },
      "execution_count": 45,
      "outputs": []
    },
    {
      "cell_type": "code",
      "source": [
        "pipe_exception = ['ner','trf_wordpiecer','trf_tok2vec']\n",
        "unaffected_pipes = [pipe for pipe in nlp.pipe_names if pipe not in pipe_exception]"
      ],
      "metadata": {
        "id": "DgfBkpZWdDDG"
      },
      "execution_count": 46,
      "outputs": []
    },
    {
      "cell_type": "code",
      "source": [
        "unaffected_pipes"
      ],
      "metadata": {
        "colab": {
          "base_uri": "https://localhost:8080/"
        },
        "id": "rt6qVzmUe3Vg",
        "outputId": "bd5e3185-9993-497b-b10b-64b27b22ab82"
      },
      "execution_count": 47,
      "outputs": [
        {
          "output_type": "execute_result",
          "data": {
            "text/plain": [
              "['tagger', 'parser']"
            ]
          },
          "metadata": {},
          "execution_count": 47
        }
      ]
    },
    {
      "cell_type": "code",
      "source": [
        "import random\n",
        "from spacy.util import minibatch, compounding\n",
        "from pathlib import Path"
      ],
      "metadata": {
        "id": "BMwOOh2He5Zz"
      },
      "execution_count": 48,
      "outputs": []
    },
    {
      "cell_type": "code",
      "source": [
        "from inspect import Traceback\n",
        "## Training the model\n",
        "\n",
        "with nlp.disable_pipes(*unaffected_pipes):\n",
        "  #training for 30 iterations\n",
        "  for itr in range(30):\n",
        "    # shuffling examples before every iteration\n",
        "    random.shuffle(TRAIN_DATA)\n",
        "    losses = {}\n",
        "    #batch up the examples using spacy's minibatch\n",
        "    batches = minibatch(TRAIN_DATA,size=compounding(4.0,32.0,1.001))\n",
        "    for batch in batches:\n",
        "      texts,annotations = zip(*batch)\n",
        "      nlp.update(texts, #batch of texts\n",
        "                 annotations, # batch of annotations\n",
        "                 drop=0.5,#dropout - make it harder to memorise data\n",
        "                 losses = losses)\n",
        "      print(\"losses\", losses)\n",
        "\n",
        "\n"
      ],
      "metadata": {
        "colab": {
          "base_uri": "https://localhost:8080/"
        },
        "id": "9hktlH5TfVv6",
        "outputId": "468e7efd-76f1-4002-dcef-67a98346288a"
      },
      "execution_count": 49,
      "outputs": [
        {
          "output_type": "stream",
          "name": "stdout",
          "text": [
            "losses {'ner': 4.558058813297976}\n",
            "losses {'ner': 9.785176156405214}\n",
            "losses {'ner': 11.668695619646314}\n",
            "losses {'ner': 12.900965762015403}\n",
            "losses {'ner': 16.709571759577557}\n",
            "losses {'ner': 8.098394687829568}\n",
            "losses {'ner': 10.061058477618644}\n",
            "losses {'ner': 12.010816494122992}\n",
            "losses {'ner': 13.5074387129971}\n",
            "losses {'ner': 14.38328247383916}\n",
            "losses {'ner': 0.44242180819128407}\n",
            "losses {'ner': 4.649074336331978}\n",
            "losses {'ner': 5.7212685199674524}\n",
            "losses {'ner': 5.882122892629013}\n",
            "losses {'ner': 10.395612915145648}\n",
            "losses {'ner': 2.8421891463432303}\n",
            "losses {'ner': 3.5642982921423254}\n",
            "losses {'ner': 5.231761394403861}\n",
            "losses {'ner': 8.071112448593908}\n",
            "losses {'ner': 11.374338967475182}\n",
            "losses {'ner': 0.002513393322033153}\n",
            "losses {'ner': 0.32600684025442206}\n",
            "losses {'ner': 2.3633512784060713}\n",
            "losses {'ner': 4.732131295586818}\n",
            "losses {'ner': 6.9810212372687275}\n",
            "losses {'ner': 3.777812706313142}\n",
            "losses {'ner': 4.356592026526613}\n",
            "losses {'ner': 4.377816703306252}\n",
            "losses {'ner': 9.588094123035688}\n",
            "losses {'ner': 10.49950950293848}\n",
            "losses {'ner': 2.8186293868259753}\n",
            "losses {'ner': 5.565401094531168}\n",
            "losses {'ner': 7.630469086844002}\n",
            "losses {'ner': 10.9552963875024}\n",
            "losses {'ner': 11.896898006765966}\n",
            "losses {'ner': 0.06207839620628519}\n",
            "losses {'ner': 4.066041722345741}\n",
            "losses {'ner': 4.558419593527557}\n",
            "losses {'ner': 7.016285918670402}\n",
            "losses {'ner': 9.349444568161001}\n",
            "losses {'ner': 0.07082185695296062}\n",
            "losses {'ner': 0.22700092362035207}\n",
            "losses {'ner': 3.418834707997547}\n",
            "losses {'ner': 5.047101081908721}\n",
            "losses {'ner': 6.719287908522666}\n",
            "losses {'ner': 0.7078252518549562}\n",
            "losses {'ner': 0.7118898782466658}\n",
            "losses {'ner': 0.8234796688359438}\n",
            "losses {'ner': 7.553421886971705}\n",
            "losses {'ner': 8.232173053070369}\n",
            "losses {'ner': 0.9501481719780713}\n",
            "losses {'ner': 0.9503579136023745}\n",
            "losses {'ner': 2.2474130738571603}\n",
            "losses {'ner': 4.390932030731847}\n",
            "losses {'ner': 4.391874615968476}\n",
            "losses {'ner': 0.0009002792529599901}\n",
            "losses {'ner': 0.05515216947503632}\n",
            "losses {'ner': 2.4892194102556893}\n",
            "losses {'ner': 3.343159277907265}\n",
            "losses {'ner': 3.34498450086949}\n",
            "losses {'ner': 0.0039662789872636495}\n",
            "losses {'ner': 0.003976717881613467}\n",
            "losses {'ner': 2.6851880551350575}\n",
            "losses {'ner': 3.3435623878545755}\n",
            "losses {'ner': 3.726398189458081}\n",
            "losses {'ner': 2.0049633681246632}\n",
            "losses {'ner': 2.3709595740830878}\n",
            "losses {'ner': 4.777139797304497}\n",
            "losses {'ner': 5.416003145100086}\n",
            "losses {'ner': 5.484710198356262}\n",
            "losses {'ner': 0.0006418008218340709}\n",
            "losses {'ner': 0.1007092256616482}\n",
            "losses {'ner': 1.5737620508614152}\n",
            "losses {'ner': 1.5738693484525474}\n",
            "losses {'ner': 2.413705532940924}\n",
            "losses {'ner': 0.004538678316194034}\n",
            "losses {'ner': 0.9880832585707959}\n",
            "losses {'ner': 0.992779282432259}\n",
            "losses {'ner': 1.0526247771352994}\n",
            "losses {'ner': 2.8261918730370055}\n",
            "losses {'ner': 0.14233568321592305}\n",
            "losses {'ner': 2.078735254267528}\n",
            "losses {'ner': 2.147361033503565}\n",
            "losses {'ner': 2.1481581308091866}\n",
            "losses {'ner': 2.1481746296770576}\n",
            "losses {'ner': 0.009836867018186639}\n",
            "losses {'ner': 0.25973180670056417}\n",
            "losses {'ner': 0.31084832222006364}\n",
            "losses {'ner': 0.3109030676773067}\n",
            "losses {'ner': 0.31093018603873496}\n",
            "losses {'ner': 0.013535624043739015}\n",
            "losses {'ner': 0.013539585333641503}\n",
            "losses {'ner': 0.32201003531487854}\n",
            "losses {'ner': 0.32216263450545296}\n",
            "losses {'ner': 0.32420395535039553}\n",
            "losses {'ner': 2.3389434449437587}\n",
            "losses {'ner': 2.3391702318091343}\n",
            "losses {'ner': 2.36721422199427}\n",
            "losses {'ner': 2.3672463859005517}\n",
            "losses {'ner': 3.9652877532463076}\n",
            "losses {'ner': 0.03515988354257925}\n",
            "losses {'ner': 0.03516065827085606}\n",
            "losses {'ner': 0.03572351333551353}\n",
            "losses {'ner': 1.851220866985523}\n",
            "losses {'ner': 1.851226217721889}\n",
            "losses {'ner': 7.464363829257081e-07}\n",
            "losses {'ner': 0.016546022012684736}\n",
            "losses {'ner': 0.02219863308923268}\n",
            "losses {'ner': 0.02736516216478494}\n",
            "losses {'ner': 0.02736899236259186}\n",
            "losses {'ner': 0.009937196596772072}\n",
            "losses {'ner': 0.019620629203265696}\n",
            "losses {'ner': 0.01963107539795482}\n",
            "losses {'ner': 0.0326798330033765}\n",
            "losses {'ner': 0.04687099332409916}\n",
            "losses {'ner': 0.0022276078254483966}\n",
            "losses {'ner': 0.0032925394419331955}\n",
            "losses {'ner': 0.0068703061363246665}\n",
            "losses {'ner': 0.5853898781457901}\n",
            "losses {'ner': 0.9016439807148815}\n",
            "losses {'ner': 1.5954973421913914}\n",
            "losses {'ner': 1.6342246741958613}\n",
            "losses {'ner': 1.6343020178065764}\n",
            "losses {'ner': 1.8493621743561395}\n",
            "losses {'ner': 1.8493621801258724}\n",
            "losses {'ner': 5.846341924975462e-05}\n",
            "losses {'ner': 0.09767646943656044}\n",
            "losses {'ner': 0.10828596944229035}\n",
            "losses {'ner': 0.11019933746560068}\n",
            "losses {'ner': 0.11019978856680451}\n",
            "losses {'ner': 0.015654723560155626}\n",
            "losses {'ner': 0.9637200712344429}\n",
            "losses {'ner': 0.9637800121199259}\n",
            "losses {'ner': 0.9813765617074687}\n",
            "losses {'ner': 0.9883905813592921}\n",
            "losses {'ner': 1.1424629005589182}\n",
            "losses {'ner': 2.1051294086021453}\n",
            "losses {'ner': 2.9029711812176253}\n",
            "losses {'ner': 4.741283323176152}\n",
            "losses {'ner': 4.741336537564874}\n",
            "losses {'ner': 1.9776048434916493}\n",
            "losses {'ner': 2.0019792444041835}\n",
            "losses {'ner': 2.4024079916190013}\n",
            "losses {'ner': 2.4027867318904237}\n",
            "losses {'ner': 2.4230416623936346}\n",
            "losses {'ner': 0.016766790958952837}\n",
            "losses {'ner': 0.021178617092169325}\n",
            "losses {'ner': 0.022392082639169406}\n",
            "losses {'ner': 0.02239216273074021}\n",
            "losses {'ner': 0.022453913375970688}\n"
          ]
        }
      ]
    },
    {
      "cell_type": "code",
      "source": [
        "doc = nlp(\"I am buying a product in Flipkart\")\n",
        "print('Entities', [(ent.text,ent.label_) for ent in doc.ents])"
      ],
      "metadata": {
        "colab": {
          "base_uri": "https://localhost:8080/"
        },
        "id": "L-exUj8cg4Iw",
        "outputId": "1053a664-be07-4398-c56c-b337f2c73f83"
      },
      "execution_count": 50,
      "outputs": [
        {
          "output_type": "stream",
          "name": "stdout",
          "text": [
            "Entities [('Flipkart', 'ORG')]\n"
          ]
        }
      ]
    },
    {
      "cell_type": "code",
      "source": [
        ""
      ],
      "metadata": {
        "id": "sY5RppZPiAon"
      },
      "execution_count": null,
      "outputs": []
    }
  ]
}