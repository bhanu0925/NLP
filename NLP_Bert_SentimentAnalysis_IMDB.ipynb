{
  "nbformat": 4,
  "nbformat_minor": 0,
  "metadata": {
    "colab": {
      "name": "NLP_Bert_SentimentAnalysis_IMDB.ipynb",
      "provenance": [],
      "mount_file_id": "13QhouDQJOh7ZsjD68em6MMRnqMHauFYt",
      "authorship_tag": "ABX9TyPk3N9RSriLwRFaSE1qA7rV",
      "include_colab_link": true
    },
    "kernelspec": {
      "name": "python3",
      "display_name": "Python 3"
    },
    "language_info": {
      "name": "python"
    },
    "accelerator": "GPU"
  },
  "cells": [
    {
      "cell_type": "markdown",
      "metadata": {
        "id": "view-in-github",
        "colab_type": "text"
      },
      "source": [
        "<a href=\"https://colab.research.google.com/github/bhanu0925/NLP/blob/main/NLP_Bert_SentimentAnalysis_IMDB.ipynb\" target=\"_parent\"><img src=\"https://colab.research.google.com/assets/colab-badge.svg\" alt=\"Open In Colab\"/></a>"
      ]
    },
    {
      "cell_type": "markdown",
      "source": [
        "#NLP with Bert for Sentiment Analysis\n",
        "\n",
        "** Data preprocessing \\\n",
        "** Building the Bert model \\\n",
        "** Training the Bert model"
      ],
      "metadata": {
        "id": "CS9rTKYm3Lbl"
      }
    },
    {
      "cell_type": "code",
      "source": [
        "import os\n",
        "ROOT = \"/content/drive/MyDrive/NLP\"\n",
        "os.chdir(ROOT)"
      ],
      "metadata": {
        "id": "cc70d8xe3nO0"
      },
      "execution_count": 1,
      "outputs": []
    },
    {
      "cell_type": "code",
      "source": [
        "#!pip install ktrain"
      ],
      "metadata": {
        "id": "LR8yhygB3nMI"
      },
      "execution_count": 4,
      "outputs": []
    },
    {
      "cell_type": "code",
      "source": [
        "## improts\n",
        "import os.path\n",
        "import numpy as np\n",
        "import tensorflow as tf\n",
        "import pandas as pd\n",
        "import matplotlib.pyplot as plt\n",
        "import ktrain\n",
        "from ktrain import text"
      ],
      "metadata": {
        "id": "OumtYnWf3nJu"
      },
      "execution_count": 5,
      "outputs": []
    },
    {
      "cell_type": "markdown",
      "source": [
        "## Data preprocessing\n",
        "\n",
        "Loading the IMDB dataset"
      ],
      "metadata": {
        "id": "Hq3dabfL6ogH"
      }
    },
    {
      "cell_type": "code",
      "source": [
        "dataset = tf.keras.utils.get_file(fname=\"aclImdb_v1.tar.gz\",\n",
        "                                  origin =\"https://ai.stanford.edu/~amaas/data/sentiment/aclImdb_v1.tar.gz\",\n",
        "                                  extract = True)"
      ],
      "metadata": {
        "colab": {
          "base_uri": "https://localhost:8080/"
        },
        "id": "HUgb3DfH3nGa",
        "outputId": "529927aa-3b53-48ad-af58-cfbdd0ae1e96"
      },
      "execution_count": 6,
      "outputs": [
        {
          "output_type": "stream",
          "name": "stdout",
          "text": [
            "Downloading data from https://ai.stanford.edu/~amaas/data/sentiment/aclImdb_v1.tar.gz\n",
            "84131840/84125825 [==============================] - 3s 0us/step\n",
            "84140032/84125825 [==============================] - 3s 0us/step\n"
          ]
        }
      ]
    },
    {
      "cell_type": "code",
      "source": [
        "## create dataset path to store the data combining datadownloaded at keras/dataset path and new dataset path which we want\n",
        "IMDB_DATADIR = os.path.join(os.path.dirname(dataset),'aclImdb')"
      ],
      "metadata": {
        "id": "74sf8ATK3nDw"
      },
      "execution_count": 7,
      "outputs": []
    },
    {
      "cell_type": "code",
      "source": [
        "IMDB_DATADIR"
      ],
      "metadata": {
        "colab": {
          "base_uri": "https://localhost:8080/",
          "height": 35
        },
        "id": "BrTE2owY-5yo",
        "outputId": "fe64d8a7-eab6-45ee-f9a8-b8319a1d396e"
      },
      "execution_count": 11,
      "outputs": [
        {
          "output_type": "execute_result",
          "data": {
            "text/plain": [
              "'/root/.keras/datasets/aclImdb'"
            ],
            "application/vnd.google.colaboratory.intrinsic+json": {
              "type": "string"
            }
          },
          "metadata": {},
          "execution_count": 11
        }
      ]
    },
    {
      "cell_type": "code",
      "source": [
        "os.path.dirname(dataset)"
      ],
      "metadata": {
        "colab": {
          "base_uri": "https://localhost:8080/",
          "height": 35
        },
        "id": "UP-_7wso-5vU",
        "outputId": "14adf469-d83d-46a2-9073-f1de751e811d"
      },
      "execution_count": 13,
      "outputs": [
        {
          "output_type": "execute_result",
          "data": {
            "text/plain": [
              "'/root/.keras/datasets'"
            ],
            "application/vnd.google.colaboratory.intrinsic+json": {
              "type": "string"
            }
          },
          "metadata": {},
          "execution_count": 13
        }
      ]
    },
    {
      "cell_type": "markdown",
      "source": [
        "# Creating training and tests sets"
      ],
      "metadata": {
        "id": "WRx8Jxvx_d4D"
      }
    },
    {
      "cell_type": "code",
      "source": [
        "(x_train,y_train),(x_test,y_test),preproc = text.texts_from_folder( datadir=IMDB_DATADIR,\n",
        "                                                                     classes = ['pos','neg'],\n",
        "                                                                     maxlen = 500,\n",
        "                                                                     train_test_names=['train','test'],\n",
        "                                                                     preprocess_mode='bert')"
      ],
      "metadata": {
        "colab": {
          "base_uri": "https://localhost:8080/",
          "height": 161
        },
        "id": "G82VYlSR-5rm",
        "outputId": "6ea53f43-a32e-4b8c-c0ee-3fd648a21756"
      },
      "execution_count": 11,
      "outputs": [
        {
          "output_type": "stream",
          "name": "stdout",
          "text": [
            "detected encoding: utf-8\n",
            "preprocessing train...\n",
            "language: en\n"
          ]
        },
        {
          "output_type": "display_data",
          "data": {
            "text/plain": [
              "<IPython.core.display.HTML object>"
            ],
            "text/html": [
              "\n",
              "<style>\n",
              "    /* Turns off some styling */\n",
              "    progress {\n",
              "        /* gets rid of default border in Firefox and Opera. */\n",
              "        border: none;\n",
              "        /* Needs to be in here for Safari polyfill so background images work as expected. */\n",
              "        background-size: auto;\n",
              "    }\n",
              "    .progress-bar-interrupted, .progress-bar-interrupted::-webkit-progress-bar {\n",
              "        background: #F44336;\n",
              "    }\n",
              "</style>\n"
            ]
          },
          "metadata": {}
        },
        {
          "output_type": "display_data",
          "data": {
            "text/plain": [
              "<IPython.core.display.HTML object>"
            ],
            "text/html": [
              "done."
            ]
          },
          "metadata": {}
        },
        {
          "output_type": "stream",
          "name": "stdout",
          "text": [
            "Is Multi-Label? False\n",
            "preprocessing test...\n",
            "language: en\n"
          ]
        },
        {
          "output_type": "display_data",
          "data": {
            "text/plain": [
              "<IPython.core.display.HTML object>"
            ],
            "text/html": [
              "\n",
              "<style>\n",
              "    /* Turns off some styling */\n",
              "    progress {\n",
              "        /* gets rid of default border in Firefox and Opera. */\n",
              "        border: none;\n",
              "        /* Needs to be in here for Safari polyfill so background images work as expected. */\n",
              "        background-size: auto;\n",
              "    }\n",
              "    .progress-bar-interrupted, .progress-bar-interrupted::-webkit-progress-bar {\n",
              "        background: #F44336;\n",
              "    }\n",
              "</style>\n"
            ]
          },
          "metadata": {}
        },
        {
          "output_type": "display_data",
          "data": {
            "text/plain": [
              "<IPython.core.display.HTML object>"
            ],
            "text/html": [
              "done."
            ]
          },
          "metadata": {}
        }
      ]
    },
    {
      "cell_type": "markdown",
      "source": [
        "#Building BERT model"
      ],
      "metadata": {
        "id": "zGC5onz0EVGZ"
      }
    },
    {
      "cell_type": "code",
      "source": [
        "#build and trturn test classification model\n",
        "model = text.text_classifier('bert',train_data=(x_train,y_train),\n",
        "                             preproc = preproc)"
      ],
      "metadata": {
        "colab": {
          "base_uri": "https://localhost:8080/"
        },
        "id": "Ra1XXqM2-5o3",
        "outputId": "4aadbc22-0d25-4994-91b5-519a87b2f26c"
      },
      "execution_count": 13,
      "outputs": [
        {
          "output_type": "stream",
          "name": "stdout",
          "text": [
            "Is Multi-Label? False\n",
            "maxlen is 500\n",
            "done.\n"
          ]
        }
      ]
    },
    {
      "cell_type": "markdown",
      "source": [
        "#Training the Bert Model"
      ],
      "metadata": {
        "id": "ASmWcbkZM61_"
      }
    },
    {
      "cell_type": "code",
      "source": [
        "learner = ktrain.get_learner(model=model,\n",
        "                             train_data=(x_train,y_train),\n",
        "                             val_data=(x_test,y_test),\n",
        "                             batch_size = 6)"
      ],
      "metadata": {
        "id": "GV3i7ra0N5Hv"
      },
      "execution_count": 14,
      "outputs": []
    },
    {
      "cell_type": "code",
      "source": [
        "learner.fit_onecycle(lr=2e-5,\n",
        "                     epochs=1)"
      ],
      "metadata": {
        "colab": {
          "base_uri": "https://localhost:8080/"
        },
        "id": "98CoR_xEN5Dn",
        "outputId": "6b4e68d4-845b-42c4-8cba-fc35b5fbc9db"
      },
      "execution_count": 16,
      "outputs": [
        {
          "output_type": "stream",
          "name": "stdout",
          "text": [
            "\n",
            "\n",
            "begin training using onecycle policy with max lr of 2e-05...\n",
            "4167/4167 [==============================] - 4659s 1s/step - loss: 0.2510 - accuracy: 0.8979 - val_loss: 0.1702 - val_accuracy: 0.9356\n"
          ]
        },
        {
          "output_type": "execute_result",
          "data": {
            "text/plain": [
              "<keras.callbacks.History at 0x7f5503f18950>"
            ]
          },
          "metadata": {},
          "execution_count": 16
        }
      ]
    },
    {
      "cell_type": "code",
      "source": [
        ""
      ],
      "metadata": {
        "id": "X1309QhDN5BF"
      },
      "execution_count": null,
      "outputs": []
    }
  ]
}